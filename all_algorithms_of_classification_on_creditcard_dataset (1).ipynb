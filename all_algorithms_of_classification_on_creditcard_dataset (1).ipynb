{
  "cells": [
    {
      "cell_type": "code",
      "execution_count": null,
      "metadata": {
        "id": "vDbag5FVwTzH"
      },
      "outputs": [],
      "source": [
        "#importing some important libraries\n",
        "import numpy as np\n",
        "import pandas as pd\n",
        "import matplotlib.pyplot as plt\n",
        "import seaborn as sns\n",
        "import warnings\n",
        "warnings.filterwarnings('ignore')"
      ]
    },
    {
      "cell_type": "code",
      "execution_count": null,
      "metadata": {
        "colab": {
          "base_uri": "https://localhost:8080/",
          "height": 299
        },
        "id": "Dv0LjEcz2u4g",
        "outputId": "aafdfa24-6184-4aaa-b98f-a698fa8d3f0f"
      },
      "outputs": [
        {
          "data": {
            "text/html": [
              "\n",
              "  <div id=\"df-e1d8580e-658c-416e-9a6d-a5b6344a4845\">\n",
              "    <div class=\"colab-df-container\">\n",
              "      <div>\n",
              "<style scoped>\n",
              "    .dataframe tbody tr th:only-of-type {\n",
              "        vertical-align: middle;\n",
              "    }\n",
              "\n",
              "    .dataframe tbody tr th {\n",
              "        vertical-align: top;\n",
              "    }\n",
              "\n",
              "    .dataframe thead th {\n",
              "        text-align: right;\n",
              "    }\n",
              "</style>\n",
              "<table border=\"1\" class=\"dataframe\">\n",
              "  <thead>\n",
              "    <tr style=\"text-align: right;\">\n",
              "      <th></th>\n",
              "      <th>Time</th>\n",
              "      <th>V1</th>\n",
              "      <th>V2</th>\n",
              "      <th>V3</th>\n",
              "      <th>V4</th>\n",
              "      <th>V5</th>\n",
              "      <th>V6</th>\n",
              "      <th>V7</th>\n",
              "      <th>V8</th>\n",
              "      <th>V9</th>\n",
              "      <th>...</th>\n",
              "      <th>V21</th>\n",
              "      <th>V22</th>\n",
              "      <th>V23</th>\n",
              "      <th>V24</th>\n",
              "      <th>V25</th>\n",
              "      <th>V26</th>\n",
              "      <th>V27</th>\n",
              "      <th>V28</th>\n",
              "      <th>Amount</th>\n",
              "      <th>Class</th>\n",
              "    </tr>\n",
              "  </thead>\n",
              "  <tbody>\n",
              "    <tr>\n",
              "      <th>0</th>\n",
              "      <td>0.0</td>\n",
              "      <td>-1.359807</td>\n",
              "      <td>-0.072781</td>\n",
              "      <td>2.536347</td>\n",
              "      <td>1.378155</td>\n",
              "      <td>-0.338321</td>\n",
              "      <td>0.462388</td>\n",
              "      <td>0.239599</td>\n",
              "      <td>0.098698</td>\n",
              "      <td>0.363787</td>\n",
              "      <td>...</td>\n",
              "      <td>-0.018307</td>\n",
              "      <td>0.277838</td>\n",
              "      <td>-0.110474</td>\n",
              "      <td>0.066928</td>\n",
              "      <td>0.128539</td>\n",
              "      <td>-0.189115</td>\n",
              "      <td>0.133558</td>\n",
              "      <td>-0.021053</td>\n",
              "      <td>149.62</td>\n",
              "      <td>0</td>\n",
              "    </tr>\n",
              "    <tr>\n",
              "      <th>1</th>\n",
              "      <td>0.0</td>\n",
              "      <td>1.191857</td>\n",
              "      <td>0.266151</td>\n",
              "      <td>0.166480</td>\n",
              "      <td>0.448154</td>\n",
              "      <td>0.060018</td>\n",
              "      <td>-0.082361</td>\n",
              "      <td>-0.078803</td>\n",
              "      <td>0.085102</td>\n",
              "      <td>-0.255425</td>\n",
              "      <td>...</td>\n",
              "      <td>-0.225775</td>\n",
              "      <td>-0.638672</td>\n",
              "      <td>0.101288</td>\n",
              "      <td>-0.339846</td>\n",
              "      <td>0.167170</td>\n",
              "      <td>0.125895</td>\n",
              "      <td>-0.008983</td>\n",
              "      <td>0.014724</td>\n",
              "      <td>2.69</td>\n",
              "      <td>0</td>\n",
              "    </tr>\n",
              "    <tr>\n",
              "      <th>2</th>\n",
              "      <td>1.0</td>\n",
              "      <td>-1.358354</td>\n",
              "      <td>-1.340163</td>\n",
              "      <td>1.773209</td>\n",
              "      <td>0.379780</td>\n",
              "      <td>-0.503198</td>\n",
              "      <td>1.800499</td>\n",
              "      <td>0.791461</td>\n",
              "      <td>0.247676</td>\n",
              "      <td>-1.514654</td>\n",
              "      <td>...</td>\n",
              "      <td>0.247998</td>\n",
              "      <td>0.771679</td>\n",
              "      <td>0.909412</td>\n",
              "      <td>-0.689281</td>\n",
              "      <td>-0.327642</td>\n",
              "      <td>-0.139097</td>\n",
              "      <td>-0.055353</td>\n",
              "      <td>-0.059752</td>\n",
              "      <td>378.66</td>\n",
              "      <td>0</td>\n",
              "    </tr>\n",
              "    <tr>\n",
              "      <th>3</th>\n",
              "      <td>1.0</td>\n",
              "      <td>-0.966272</td>\n",
              "      <td>-0.185226</td>\n",
              "      <td>1.792993</td>\n",
              "      <td>-0.863291</td>\n",
              "      <td>-0.010309</td>\n",
              "      <td>1.247203</td>\n",
              "      <td>0.237609</td>\n",
              "      <td>0.377436</td>\n",
              "      <td>-1.387024</td>\n",
              "      <td>...</td>\n",
              "      <td>-0.108300</td>\n",
              "      <td>0.005274</td>\n",
              "      <td>-0.190321</td>\n",
              "      <td>-1.175575</td>\n",
              "      <td>0.647376</td>\n",
              "      <td>-0.221929</td>\n",
              "      <td>0.062723</td>\n",
              "      <td>0.061458</td>\n",
              "      <td>123.50</td>\n",
              "      <td>0</td>\n",
              "    </tr>\n",
              "    <tr>\n",
              "      <th>4</th>\n",
              "      <td>2.0</td>\n",
              "      <td>-1.158233</td>\n",
              "      <td>0.877737</td>\n",
              "      <td>1.548718</td>\n",
              "      <td>0.403034</td>\n",
              "      <td>-0.407193</td>\n",
              "      <td>0.095921</td>\n",
              "      <td>0.592941</td>\n",
              "      <td>-0.270533</td>\n",
              "      <td>0.817739</td>\n",
              "      <td>...</td>\n",
              "      <td>-0.009431</td>\n",
              "      <td>0.798278</td>\n",
              "      <td>-0.137458</td>\n",
              "      <td>0.141267</td>\n",
              "      <td>-0.206010</td>\n",
              "      <td>0.502292</td>\n",
              "      <td>0.219422</td>\n",
              "      <td>0.215153</td>\n",
              "      <td>69.99</td>\n",
              "      <td>0</td>\n",
              "    </tr>\n",
              "  </tbody>\n",
              "</table>\n",
              "<p>5 rows × 31 columns</p>\n",
              "</div>\n",
              "      <button class=\"colab-df-convert\" onclick=\"convertToInteractive('df-e1d8580e-658c-416e-9a6d-a5b6344a4845')\"\n",
              "              title=\"Convert this dataframe to an interactive table.\"\n",
              "              style=\"display:none;\">\n",
              "        \n",
              "  <svg xmlns=\"http://www.w3.org/2000/svg\" height=\"24px\"viewBox=\"0 0 24 24\"\n",
              "       width=\"24px\">\n",
              "    <path d=\"M0 0h24v24H0V0z\" fill=\"none\"/>\n",
              "    <path d=\"M18.56 5.44l.94 2.06.94-2.06 2.06-.94-2.06-.94-.94-2.06-.94 2.06-2.06.94zm-11 1L8.5 8.5l.94-2.06 2.06-.94-2.06-.94L8.5 2.5l-.94 2.06-2.06.94zm10 10l.94 2.06.94-2.06 2.06-.94-2.06-.94-.94-2.06-.94 2.06-2.06.94z\"/><path d=\"M17.41 7.96l-1.37-1.37c-.4-.4-.92-.59-1.43-.59-.52 0-1.04.2-1.43.59L10.3 9.45l-7.72 7.72c-.78.78-.78 2.05 0 2.83L4 21.41c.39.39.9.59 1.41.59.51 0 1.02-.2 1.41-.59l7.78-7.78 2.81-2.81c.8-.78.8-2.07 0-2.86zM5.41 20L4 18.59l7.72-7.72 1.47 1.35L5.41 20z\"/>\n",
              "  </svg>\n",
              "      </button>\n",
              "      \n",
              "  <style>\n",
              "    .colab-df-container {\n",
              "      display:flex;\n",
              "      flex-wrap:wrap;\n",
              "      gap: 12px;\n",
              "    }\n",
              "\n",
              "    .colab-df-convert {\n",
              "      background-color: #E8F0FE;\n",
              "      border: none;\n",
              "      border-radius: 50%;\n",
              "      cursor: pointer;\n",
              "      display: none;\n",
              "      fill: #1967D2;\n",
              "      height: 32px;\n",
              "      padding: 0 0 0 0;\n",
              "      width: 32px;\n",
              "    }\n",
              "\n",
              "    .colab-df-convert:hover {\n",
              "      background-color: #E2EBFA;\n",
              "      box-shadow: 0px 1px 2px rgba(60, 64, 67, 0.3), 0px 1px 3px 1px rgba(60, 64, 67, 0.15);\n",
              "      fill: #174EA6;\n",
              "    }\n",
              "\n",
              "    [theme=dark] .colab-df-convert {\n",
              "      background-color: #3B4455;\n",
              "      fill: #D2E3FC;\n",
              "    }\n",
              "\n",
              "    [theme=dark] .colab-df-convert:hover {\n",
              "      background-color: #434B5C;\n",
              "      box-shadow: 0px 1px 3px 1px rgba(0, 0, 0, 0.15);\n",
              "      filter: drop-shadow(0px 1px 2px rgba(0, 0, 0, 0.3));\n",
              "      fill: #FFFFFF;\n",
              "    }\n",
              "  </style>\n",
              "\n",
              "      <script>\n",
              "        const buttonEl =\n",
              "          document.querySelector('#df-e1d8580e-658c-416e-9a6d-a5b6344a4845 button.colab-df-convert');\n",
              "        buttonEl.style.display =\n",
              "          google.colab.kernel.accessAllowed ? 'block' : 'none';\n",
              "\n",
              "        async function convertToInteractive(key) {\n",
              "          const element = document.querySelector('#df-e1d8580e-658c-416e-9a6d-a5b6344a4845');\n",
              "          const dataTable =\n",
              "            await google.colab.kernel.invokeFunction('convertToInteractive',\n",
              "                                                     [key], {});\n",
              "          if (!dataTable) return;\n",
              "\n",
              "          const docLinkHtml = 'Like what you see? Visit the ' +\n",
              "            '<a target=\"_blank\" href=https://colab.research.google.com/notebooks/data_table.ipynb>data table notebook</a>'\n",
              "            + ' to learn more about interactive tables.';\n",
              "          element.innerHTML = '';\n",
              "          dataTable['output_type'] = 'display_data';\n",
              "          await google.colab.output.renderOutput(dataTable, element);\n",
              "          const docLink = document.createElement('div');\n",
              "          docLink.innerHTML = docLinkHtml;\n",
              "          element.appendChild(docLink);\n",
              "        }\n",
              "      </script>\n",
              "    </div>\n",
              "  </div>\n",
              "  "
            ],
            "text/plain": [
              "   Time        V1        V2        V3        V4        V5        V6        V7  \\\n",
              "0   0.0 -1.359807 -0.072781  2.536347  1.378155 -0.338321  0.462388  0.239599   \n",
              "1   0.0  1.191857  0.266151  0.166480  0.448154  0.060018 -0.082361 -0.078803   \n",
              "2   1.0 -1.358354 -1.340163  1.773209  0.379780 -0.503198  1.800499  0.791461   \n",
              "3   1.0 -0.966272 -0.185226  1.792993 -0.863291 -0.010309  1.247203  0.237609   \n",
              "4   2.0 -1.158233  0.877737  1.548718  0.403034 -0.407193  0.095921  0.592941   \n",
              "\n",
              "         V8        V9  ...       V21       V22       V23       V24       V25  \\\n",
              "0  0.098698  0.363787  ... -0.018307  0.277838 -0.110474  0.066928  0.128539   \n",
              "1  0.085102 -0.255425  ... -0.225775 -0.638672  0.101288 -0.339846  0.167170   \n",
              "2  0.247676 -1.514654  ...  0.247998  0.771679  0.909412 -0.689281 -0.327642   \n",
              "3  0.377436 -1.387024  ... -0.108300  0.005274 -0.190321 -1.175575  0.647376   \n",
              "4 -0.270533  0.817739  ... -0.009431  0.798278 -0.137458  0.141267 -0.206010   \n",
              "\n",
              "        V26       V27       V28  Amount  Class  \n",
              "0 -0.189115  0.133558 -0.021053  149.62      0  \n",
              "1  0.125895 -0.008983  0.014724    2.69      0  \n",
              "2 -0.139097 -0.055353 -0.059752  378.66      0  \n",
              "3 -0.221929  0.062723  0.061458  123.50      0  \n",
              "4  0.502292  0.219422  0.215153   69.99      0  \n",
              "\n",
              "[5 rows x 31 columns]"
            ]
          },
          "execution_count": 2,
          "metadata": {},
          "output_type": "execute_result"
        }
      ],
      "source": [
        "#to load dataset\n",
        "df=pd.read_csv('/content/drive/MyDrive/ML notebook/creditcard.csv')\n",
        "\n",
        "#to show first 5 records\n",
        "df.head()"
      ]
    },
    {
      "cell_type": "code",
      "execution_count": null,
      "metadata": {
        "colab": {
          "base_uri": "https://localhost:8080/"
        },
        "id": "IHpEJrpd3eJY",
        "outputId": "e51563a0-64bc-49b4-f976-d22d8b378315"
      },
      "outputs": [
        {
          "data": {
            "text/plain": [
              "(284807, 31)"
            ]
          },
          "execution_count": 3,
          "metadata": {},
          "output_type": "execute_result"
        }
      ],
      "source": [
        "#to show shape of dataset means how many column and rows in dataset\n",
        "df.shape"
      ]
    },
    {
      "cell_type": "code",
      "execution_count": null,
      "metadata": {
        "colab": {
          "base_uri": "https://localhost:8080/"
        },
        "id": "i7vHrBs63-1Q",
        "outputId": "4e51eaac-d1b7-4cc8-84ef-8ffb63c6a48c"
      },
      "outputs": [
        {
          "data": {
            "text/plain": [
              "Time      0\n",
              "V1        0\n",
              "V2        0\n",
              "V3        0\n",
              "V4        0\n",
              "V5        0\n",
              "V6        0\n",
              "V7        0\n",
              "V8        0\n",
              "V9        0\n",
              "V10       0\n",
              "V11       0\n",
              "V12       0\n",
              "V13       0\n",
              "V14       0\n",
              "V15       0\n",
              "V16       0\n",
              "V17       0\n",
              "V18       0\n",
              "V19       0\n",
              "V20       0\n",
              "V21       0\n",
              "V22       0\n",
              "V23       0\n",
              "V24       0\n",
              "V25       0\n",
              "V26       0\n",
              "V27       0\n",
              "V28       0\n",
              "Amount    0\n",
              "Class     0\n",
              "dtype: int64"
            ]
          },
          "execution_count": 4,
          "metadata": {},
          "output_type": "execute_result"
        }
      ],
      "source": [
        "#to check null values\n",
        "df.isnull().sum()"
      ]
    },
    {
      "cell_type": "code",
      "execution_count": null,
      "metadata": {
        "colab": {
          "base_uri": "https://localhost:8080/"
        },
        "id": "F7UacJWs4IMX",
        "outputId": "c21656d2-4594-4410-ea0c-889bbb0e3947"
      },
      "outputs": [
        {
          "data": {
            "text/plain": [
              "Time      float64\n",
              "V1        float64\n",
              "V2        float64\n",
              "V3        float64\n",
              "V4        float64\n",
              "V5        float64\n",
              "V6        float64\n",
              "V7        float64\n",
              "V8        float64\n",
              "V9        float64\n",
              "V10       float64\n",
              "V11       float64\n",
              "V12       float64\n",
              "V13       float64\n",
              "V14       float64\n",
              "V15       float64\n",
              "V16       float64\n",
              "V17       float64\n",
              "V18       float64\n",
              "V19       float64\n",
              "V20       float64\n",
              "V21       float64\n",
              "V22       float64\n",
              "V23       float64\n",
              "V24       float64\n",
              "V25       float64\n",
              "V26       float64\n",
              "V27       float64\n",
              "V28       float64\n",
              "Amount    float64\n",
              "Class       int64\n",
              "dtype: object"
            ]
          },
          "execution_count": 5,
          "metadata": {},
          "output_type": "execute_result"
        }
      ],
      "source": [
        "#to check datatypes\n",
        "df.dtypes"
      ]
    },
    {
      "cell_type": "code",
      "execution_count": null,
      "metadata": {
        "colab": {
          "base_uri": "https://localhost:8080/",
          "height": 279
        },
        "id": "C5AIxBS44OhN",
        "outputId": "d8162f7d-bc97-49ca-bc1a-f1ab6cc06110"
      },
      "outputs": [
        {
          "data": {
            "image/png": "[encoded data removed]",
            "text/plain": [
              "<Figure size 432x288 with 1 Axes>"
            ]
          },
          "metadata": {},
          "output_type": "display_data"
        }
      ],
      "source": [
        "#to check in class how many categories in class column\n",
        "sns.countplot(data=df,x='Class')\n",
        "f=df['Class'].value_counts()\n",
        "plt.yticks(f)\n",
        "plt.show()"
      ]
    },
    {
      "cell_type": "code",
      "execution_count": null,
      "metadata": {
        "id": "_Yfqix7PCNSX"
      },
      "outputs": [],
      "source": [
        "#select input and output\n",
        "X=df.drop(\"Class\",axis=1)   #input variable\n",
        "Y=df[\"Class\"]        #output variable"
      ]
    },
    {
      "cell_type": "code",
      "execution_count": null,
      "metadata": {
        "id": "mdp4A6WDCngV"
      },
      "outputs": [],
      "source": [
        "#split data into train test split\n",
        "from sklearn.model_selection import train_test_split\n",
        "X_train,X_test,Y_train,Y_test=train_test_split(X,Y,test_size=0.3,random_state=1)"
      ]
    },
    {
      "cell_type": "code",
      "execution_count": null,
      "metadata": {
        "id": "jDIm3W0sDLIl"
      },
      "outputs": [],
      "source": [
        "#apply scaling on input data means 70%traning and testing data\n",
        "from sklearn.preprocessing import StandardScaler\n",
        "\n",
        "#create object of standardscaler\n",
        "ss=StandardScaler()\n",
        "X_train=ss.fit_transform(X_train)    #on training we apply fit_transform\n",
        "X_test=ss.transform(X_test)          #on testing we apply only transform because our testing data not fitted"
      ]
    },
    {
      "cell_type": "code",
      "execution_count": null,
      "metadata": {
        "colab": {
          "base_uri": "https://localhost:8080/"
        },
        "id": "Y3LhnJP2D8Xa",
        "outputId": "0e8cc4f3-fc85-4d9b-a541-103ce14eb1c2"
      },
      "outputs": [
        {
          "data": {
            "text/plain": [
              "0    284315\n",
              "1       492\n",
              "Name: Class, dtype: int64"
            ]
          },
          "execution_count": 10,
          "metadata": {},
          "output_type": "execute_result"
        }
      ],
      "source": [
        "#check the model is balanced or not\n",
        "df['Class'].value_counts()   #here our data is unbalance/imbalaced"
      ]
    },
    {
      "cell_type": "code",
      "execution_count": null,
      "metadata": {
        "colab": {
          "base_uri": "https://localhost:8080/",
          "height": 35
        },
        "id": "gb39a5hnEIjC",
        "outputId": "45ee1c17-1fb9-4c37-af1b-8355e56d9c86"
      },
      "outputs": [
        {
          "data": {
            "application/vnd.google.colaboratory.intrinsic+json": {
              "type": "string"
            },
            "text/plain": [
              "' There are 2 types of Sampling Technique : -\\n1. Random Over Sampling TEchnique  2.Random Under Sampling TEchnique'"
            ]
          },
          "execution_count": 11,
          "metadata": {},
          "output_type": "execute_result"
        }
      ],
      "source": [
        "#if data is imbalance then use sampling Technique\n",
        "#We handle Imbalance data ,We take some Samling Technique.\n",
        "''' There are 2 types of Sampling Technique : -\n",
        "1. Random Over Sampling TEchnique  2.Random Under Sampling TEchnique'''"
      ]
    },
    {
      "cell_type": "code",
      "execution_count": null,
      "metadata": {
        "id": "qaThhAV7EaZJ"
      },
      "outputs": [],
      "source": [
        "#If you have basically reducing the majority class means \n",
        "#remove record randomly from majority class that is known as \n",
        "#Random Undersampling ,\n",
        "#and if you are increasing the minority class means create a duplicate\n",
        "#row randomly that is known as Random over sampling"
      ]
    },
    {
      "cell_type": "code",
      "execution_count": null,
      "metadata": {
        "colab": {
          "base_uri": "https://localhost:8080/"
        },
        "id": "zLYJH9qiEdTa",
        "outputId": "9e59e4ae-24a2-4113-ad60-2fa37f528069"
      },
      "outputs": [
        {
          "name": "stdout",
          "output_type": "stream",
          "text": [
            "Requirement already satisfied: imblearn in /usr/local/lib/python3.7/dist-packages (0.0)\n",
            "Requirement already satisfied: imbalanced-learn in /usr/local/lib/python3.7/dist-packages (from imblearn) (0.8.1)\n",
            "Requirement already satisfied: scipy>=0.19.1 in /usr/local/lib/python3.7/dist-packages (from imbalanced-learn->imblearn) (1.4.1)\n",
            "Requirement already satisfied: scikit-learn>=0.24 in /usr/local/lib/python3.7/dist-packages (from imbalanced-learn->imblearn) (1.0.2)\n",
            "Requirement already satisfied: joblib>=0.11 in /usr/local/lib/python3.7/dist-packages (from imbalanced-learn->imblearn) (1.1.0)\n",
            "Requirement already satisfied: numpy>=1.13.3 in /usr/local/lib/python3.7/dist-packages (from imbalanced-learn->imblearn) (1.21.5)\n",
            "Requirement already satisfied: threadpoolctl>=2.0.0 in /usr/local/lib/python3.7/dist-packages (from scikit-learn>=0.24->imbalanced-learn->imblearn) (3.1.0)\n"
          ]
        }
      ],
      "source": [
        "#install package imblearn only one time\n",
        "!pip install imblearn"
      ]
    },
    {
      "cell_type": "code",
      "execution_count": null,
      "metadata": {
        "id": "a3_lzZa7Ehe5"
      },
      "outputs": [],
      "source": [
        "#use randomoversampler \n",
        "from imblearn.over_sampling import RandomOverSampler"
      ]
    },
    {
      "cell_type": "code",
      "execution_count": null,
      "metadata": {
        "id": "u4V7ITR5E5U4"
      },
      "outputs": [],
      "source": [
        "#create object of randomoversampler\n",
        "ros=RandomOverSampler()"
      ]
    },
    {
      "cell_type": "code",
      "execution_count": null,
      "metadata": {
        "id": "wRVzdJCUE_jo"
      },
      "outputs": [],
      "source": [
        "#apply randomoversampler on 70% training data only\n",
        "X_train_ros,Y_train_ros=ros.fit_resample(X_train,Y_train)\n",
        "\n",
        "#fit_resample() inbuilt method of randomoversampler"
      ]
    },
    {
      "cell_type": "code",
      "execution_count": null,
      "metadata": {
        "colab": {
          "base_uri": "https://localhost:8080/"
        },
        "id": "wFqz7uQqFUXX",
        "outputId": "ab66a99c-298c-4791-be62-98766d398e91"
      },
      "outputs": [
        {
          "data": {
            "text/plain": [
              "0    199007\n",
              "1       357\n",
              "Name: Class, dtype: int64"
            ]
          },
          "execution_count": 17,
          "metadata": {},
          "output_type": "execute_result"
        }
      ],
      "source": [
        "#check before balancing dataset means before applying randomoversamper on training data\n",
        "pd.Series(Y_train).value_counts()"
      ]
    },
    {
      "cell_type": "code",
      "execution_count": null,
      "metadata": {
        "colab": {
          "base_uri": "https://localhost:8080/"
        },
        "id": "rEGZsa1uGS8s",
        "outputId": "622888e3-e2d6-4f08-95f0-91fadc0e9511"
      },
      "outputs": [
        {
          "data": {
            "text/plain": [
              "0    199007\n",
              "1    199007\n",
              "Name: Class, dtype: int64"
            ]
          },
          "execution_count": 18,
          "metadata": {},
          "output_type": "execute_result"
        }
      ],
      "source": [
        "#check after balancing data means after applying randomoversampler on training data\n",
        "pd.Series(Y_train_ros).value_counts()"
      ]
    },
    {
      "cell_type": "code",
      "execution_count": null,
      "metadata": {
        "id": "b9kOWq1sGiCc"
      },
      "outputs": [],
      "source": [
        "#applying randomoversampler on 30% testing data \n",
        "X_test_ros,Y_test_ros=ros.fit_resample(X_test,Y_test)"
      ]
    },
    {
      "cell_type": "code",
      "execution_count": null,
      "metadata": {
        "colab": {
          "base_uri": "https://localhost:8080/"
        },
        "id": "WiL1YENuHAGD",
        "outputId": "07deae32-f01a-4ba9-a912-73c23792ad49"
      },
      "outputs": [
        {
          "data": {
            "text/plain": [
              "0    85308\n",
              "1      135\n",
              "Name: Class, dtype: int64"
            ]
          },
          "execution_count": 20,
          "metadata": {},
          "output_type": "execute_result"
        }
      ],
      "source": [
        "#check before balancing testing data means before applying randomoversamper on 30% tetsing data\n",
        "pd.Series(Y_test).value_counts()"
      ]
    },
    {
      "cell_type": "code",
      "execution_count": null,
      "metadata": {
        "colab": {
          "base_uri": "https://localhost:8080/"
        },
        "id": "2Y4GmFkkHW0L",
        "outputId": "fba683e6-59f2-4352-b3f3-4c694b0d0d36"
      },
      "outputs": [
        {
          "data": {
            "text/plain": [
              "0    85308\n",
              "1    85308\n",
              "Name: Class, dtype: int64"
            ]
          },
          "execution_count": 21,
          "metadata": {},
          "output_type": "execute_result"
        }
      ],
      "source": [
        "#check after balancing testing data means after applying randomoversampler on testing data\n",
        "pd.Series(Y_test_ros).value_counts()"
      ]
    },
    {
      "cell_type": "code",
      "execution_count": null,
      "metadata": {
        "id": "sc-uALgtHySy"
      },
      "outputs": [],
      "source": [
        "#create def function for the model\n",
        "def create_model(model):\n",
        "  model.fit(X_train_ros,Y_train_ros)   #train the model\n",
        "  Y_predict=model.predict(X_test_ros)  #test the model\n",
        "  print(classification_report(Y_test_ros,Y_predict))\n",
        "  print(\"confusion matrix:\")\n",
        "\n",
        "  #confusion matrix\n",
        "  print(confusion_matrix(Y_test_ros,Y_predict))\n",
        "  return model"
      ]
    },
    {
      "cell_type": "code",
      "execution_count": null,
      "metadata": {
        "id": "PR4UOWzlJCP3"
      },
      "outputs": [],
      "source": [
        "#import classification report and confusion matrix\n",
        "from sklearn.metrics import classification_report\n",
        "from sklearn.metrics import confusion_matrix"
      ]
    },
    {
      "cell_type": "code",
      "execution_count": null,
      "metadata": {
        "id": "G4Yw8gC-JTNv"
      },
      "outputs": [],
      "source": [
        "#Baseline model:import logistic regression model\n",
        "from sklearn.linear_model import LogisticRegression\n",
        "\n",
        "#create object of LogisticRegression\n",
        "lr=LogisticRegression()"
      ]
    },
    {
      "cell_type": "code",
      "execution_count": null,
      "metadata": {
        "colab": {
          "base_uri": "https://localhost:8080/"
        },
        "id": "1ZpWY_60Jine",
        "outputId": "6b77200d-86a1-4a2c-c6e7-2e5886f0e6ca"
      },
      "outputs": [
        {
          "name": "stdout",
          "output_type": "stream",
          "text": [
            "              precision    recall  f1-score   support\n",
            "\n",
            "           0       0.91      0.98      0.94     85308\n",
            "           1       0.98      0.90      0.94     85308\n",
            "\n",
            "    accuracy                           0.94    170616\n",
            "   macro avg       0.94      0.94      0.94    170616\n",
            "weighted avg       0.94      0.94      0.94    170616\n",
            "\n",
            "confusion matrix:\n",
            "[[83716  1592]\n",
            " [ 8706 76602]]\n"
          ]
        }
      ],
      "source": [
        "#call the function \n",
        "lr=create_model(lr)"
      ]
    },
    {
      "cell_type": "code",
      "execution_count": null,
      "metadata": {
        "id": "F2Qw6SIzKER-"
      },
      "outputs": [],
      "source": [
        "#create a decisiontreeclassifier\n",
        "from sklearn.tree import DecisionTreeClassifier\n",
        "\n",
        "#create object of decisiontreeclasifier\n",
        "dt=DecisionTreeClassifier()\n"
      ]
    },
    {
      "cell_type": "code",
      "execution_count": null,
      "metadata": {
        "colab": {
          "base_uri": "https://localhost:8080/"
        },
        "id": "l96ojlyqKhLb",
        "outputId": "98c68ad1-2426-4128-f33d-086a042a801e"
      },
      "outputs": [
        {
          "name": "stdout",
          "output_type": "stream",
          "text": [
            "              precision    recall  f1-score   support\n",
            "\n",
            "           0       0.74      1.00      0.85     85308\n",
            "           1       1.00      0.65      0.79     85308\n",
            "\n",
            "    accuracy                           0.82    170616\n",
            "   macro avg       0.87      0.82      0.82    170616\n",
            "weighted avg       0.87      0.82      0.82    170616\n",
            "\n",
            "confusion matrix:\n",
            "[[85271    37]\n",
            " [30153 55155]]\n"
          ]
        }
      ],
      "source": [
        "#call the function\n",
        "dt=create_model(dt)"
      ]
    },
    {
      "cell_type": "code",
      "execution_count": null,
      "metadata": {
        "colab": {
          "base_uri": "https://localhost:8080/"
        },
        "id": "4NL7AAf_K0Iz",
        "outputId": "d9691fb1-9769-4cdb-c00b-7bb4046bf2c2"
      },
      "outputs": [
        {
          "name": "stdout",
          "output_type": "stream",
          "text": [
            "[1.25643925e-02 1.08982653e-03 5.70661228e-04 3.50933790e-03\n",
            " 3.97496264e-02 1.37555501e-02 1.49327322e-04 1.15935520e-02\n",
            " 2.15933547e-03 5.37105480e-03 9.08888889e-03 4.65875031e-03\n",
            " 3.80080655e-02 1.12249982e-02 7.57163255e-01 8.01562578e-05\n",
            " 1.37890075e-02 1.12350611e-03 7.22374292e-03 5.39068236e-03\n",
            " 2.23513847e-02 2.06046562e-03 4.58769915e-03 3.14642894e-03\n",
            " 2.37463892e-04 1.43872570e-04 8.60968998e-03 9.02410376e-05\n",
            " 5.11462664e-03 1.53944104e-02]\n"
          ]
        }
      ],
      "source": [
        "#information gain of the features\n",
        "IG=dt.feature_importances_\n",
        "print(IG)"
      ]
    },
    {
      "cell_type": "code",
      "execution_count": null,
      "metadata": {
        "id": "S4WygET5M_u-"
      },
      "outputs": [],
      "source": [
        "column=X.columns"
      ]
    },
    {
      "cell_type": "code",
      "execution_count": null,
      "metadata": {
        "colab": {
          "base_uri": "https://localhost:8080/",
          "height": 990
        },
        "id": "Lnxk7NYuNLJO",
        "outputId": "832c458f-0031-4739-e229-a494bca70fc5"
      },
      "outputs": [
        {
          "data": {
            "text/html": [
              "\n",
              "  <div id=\"df-2edd5338-0d06-4dea-a1c5-24be85be0bde\">\n",
              "    <div class=\"colab-df-container\">\n",
              "      <div>\n",
              "<style scoped>\n",
              "    .dataframe tbody tr th:only-of-type {\n",
              "        vertical-align: middle;\n",
              "    }\n",
              "\n",
              "    .dataframe tbody tr th {\n",
              "        vertical-align: top;\n",
              "    }\n",
              "\n",
              "    .dataframe thead th {\n",
              "        text-align: right;\n",
              "    }\n",
              "</style>\n",
              "<table border=\"1\" class=\"dataframe\">\n",
              "  <thead>\n",
              "    <tr style=\"text-align: right;\">\n",
              "      <th></th>\n",
              "      <th>Input</th>\n",
              "      <th>Information_Gain</th>\n",
              "    </tr>\n",
              "  </thead>\n",
              "  <tbody>\n",
              "    <tr>\n",
              "      <th>14</th>\n",
              "      <td>V14</td>\n",
              "      <td>0.757163</td>\n",
              "    </tr>\n",
              "    <tr>\n",
              "      <th>4</th>\n",
              "      <td>V4</td>\n",
              "      <td>0.039750</td>\n",
              "    </tr>\n",
              "    <tr>\n",
              "      <th>12</th>\n",
              "      <td>V12</td>\n",
              "      <td>0.038008</td>\n",
              "    </tr>\n",
              "    <tr>\n",
              "      <th>20</th>\n",
              "      <td>V20</td>\n",
              "      <td>0.022351</td>\n",
              "    </tr>\n",
              "    <tr>\n",
              "      <th>29</th>\n",
              "      <td>Amount</td>\n",
              "      <td>0.015394</td>\n",
              "    </tr>\n",
              "    <tr>\n",
              "      <th>16</th>\n",
              "      <td>V16</td>\n",
              "      <td>0.013789</td>\n",
              "    </tr>\n",
              "    <tr>\n",
              "      <th>5</th>\n",
              "      <td>V5</td>\n",
              "      <td>0.013756</td>\n",
              "    </tr>\n",
              "    <tr>\n",
              "      <th>0</th>\n",
              "      <td>Time</td>\n",
              "      <td>0.012564</td>\n",
              "    </tr>\n",
              "    <tr>\n",
              "      <th>7</th>\n",
              "      <td>V7</td>\n",
              "      <td>0.011594</td>\n",
              "    </tr>\n",
              "    <tr>\n",
              "      <th>13</th>\n",
              "      <td>V13</td>\n",
              "      <td>0.011225</td>\n",
              "    </tr>\n",
              "    <tr>\n",
              "      <th>10</th>\n",
              "      <td>V10</td>\n",
              "      <td>0.009089</td>\n",
              "    </tr>\n",
              "    <tr>\n",
              "      <th>26</th>\n",
              "      <td>V26</td>\n",
              "      <td>0.008610</td>\n",
              "    </tr>\n",
              "    <tr>\n",
              "      <th>18</th>\n",
              "      <td>V18</td>\n",
              "      <td>0.007224</td>\n",
              "    </tr>\n",
              "    <tr>\n",
              "      <th>19</th>\n",
              "      <td>V19</td>\n",
              "      <td>0.005391</td>\n",
              "    </tr>\n",
              "    <tr>\n",
              "      <th>9</th>\n",
              "      <td>V9</td>\n",
              "      <td>0.005371</td>\n",
              "    </tr>\n",
              "    <tr>\n",
              "      <th>28</th>\n",
              "      <td>V28</td>\n",
              "      <td>0.005115</td>\n",
              "    </tr>\n",
              "    <tr>\n",
              "      <th>11</th>\n",
              "      <td>V11</td>\n",
              "      <td>0.004659</td>\n",
              "    </tr>\n",
              "    <tr>\n",
              "      <th>22</th>\n",
              "      <td>V22</td>\n",
              "      <td>0.004588</td>\n",
              "    </tr>\n",
              "    <tr>\n",
              "      <th>3</th>\n",
              "      <td>V3</td>\n",
              "      <td>0.003509</td>\n",
              "    </tr>\n",
              "    <tr>\n",
              "      <th>23</th>\n",
              "      <td>V23</td>\n",
              "      <td>0.003146</td>\n",
              "    </tr>\n",
              "    <tr>\n",
              "      <th>8</th>\n",
              "      <td>V8</td>\n",
              "      <td>0.002159</td>\n",
              "    </tr>\n",
              "    <tr>\n",
              "      <th>21</th>\n",
              "      <td>V21</td>\n",
              "      <td>0.002060</td>\n",
              "    </tr>\n",
              "    <tr>\n",
              "      <th>17</th>\n",
              "      <td>V17</td>\n",
              "      <td>0.001124</td>\n",
              "    </tr>\n",
              "    <tr>\n",
              "      <th>1</th>\n",
              "      <td>V1</td>\n",
              "      <td>0.001090</td>\n",
              "    </tr>\n",
              "    <tr>\n",
              "      <th>2</th>\n",
              "      <td>V2</td>\n",
              "      <td>0.000571</td>\n",
              "    </tr>\n",
              "    <tr>\n",
              "      <th>24</th>\n",
              "      <td>V24</td>\n",
              "      <td>0.000237</td>\n",
              "    </tr>\n",
              "    <tr>\n",
              "      <th>6</th>\n",
              "      <td>V6</td>\n",
              "      <td>0.000149</td>\n",
              "    </tr>\n",
              "    <tr>\n",
              "      <th>25</th>\n",
              "      <td>V25</td>\n",
              "      <td>0.000144</td>\n",
              "    </tr>\n",
              "    <tr>\n",
              "      <th>27</th>\n",
              "      <td>V27</td>\n",
              "      <td>0.000090</td>\n",
              "    </tr>\n",
              "    <tr>\n",
              "      <th>15</th>\n",
              "      <td>V15</td>\n",
              "      <td>0.000080</td>\n",
              "    </tr>\n",
              "  </tbody>\n",
              "</table>\n",
              "</div>\n",
              "      <button class=\"colab-df-convert\" onclick=\"convertToInteractive('df-2edd5338-0d06-4dea-a1c5-24be85be0bde')\"\n",
              "              title=\"Convert this dataframe to an interactive table.\"\n",
              "              style=\"display:none;\">\n",
              "        \n",
              "  <svg xmlns=\"http://www.w3.org/2000/svg\" height=\"24px\"viewBox=\"0 0 24 24\"\n",
              "       width=\"24px\">\n",
              "    <path d=\"M0 0h24v24H0V0z\" fill=\"none\"/>\n",
              "    <path d=\"M18.56 5.44l.94 2.06.94-2.06 2.06-.94-2.06-.94-.94-2.06-.94 2.06-2.06.94zm-11 1L8.5 8.5l.94-2.06 2.06-.94-2.06-.94L8.5 2.5l-.94 2.06-2.06.94zm10 10l.94 2.06.94-2.06 2.06-.94-2.06-.94-.94-2.06-.94 2.06-2.06.94z\"/><path d=\"M17.41 7.96l-1.37-1.37c-.4-.4-.92-.59-1.43-.59-.52 0-1.04.2-1.43.59L10.3 9.45l-7.72 7.72c-.78.78-.78 2.05 0 2.83L4 21.41c.39.39.9.59 1.41.59.51 0 1.02-.2 1.41-.59l7.78-7.78 2.81-2.81c.8-.78.8-2.07 0-2.86zM5.41 20L4 18.59l7.72-7.72 1.47 1.35L5.41 20z\"/>\n",
              "  </svg>\n",
              "      </button>\n",
              "      \n",
              "  <style>\n",
              "    .colab-df-container {\n",
              "      display:flex;\n",
              "      flex-wrap:wrap;\n",
              "      gap: 12px;\n",
              "    }\n",
              "\n",
              "    .colab-df-convert {\n",
              "      background-color: #E8F0FE;\n",
              "      border: none;\n",
              "      border-radius: 50%;\n",
              "      cursor: pointer;\n",
              "      display: none;\n",
              "      fill: #1967D2;\n",
              "      height: 32px;\n",
              "      padding: 0 0 0 0;\n",
              "      width: 32px;\n",
              "    }\n",
              "\n",
              "    .colab-df-convert:hover {\n",
              "      background-color: #E2EBFA;\n",
              "      box-shadow: 0px 1px 2px rgba(60, 64, 67, 0.3), 0px 1px 3px 1px rgba(60, 64, 67, 0.15);\n",
              "      fill: #174EA6;\n",
              "    }\n",
              "\n",
              "    [theme=dark] .colab-df-convert {\n",
              "      background-color: #3B4455;\n",
              "      fill: #D2E3FC;\n",
              "    }\n",
              "\n",
              "    [theme=dark] .colab-df-convert:hover {\n",
              "      background-color: #434B5C;\n",
              "      box-shadow: 0px 1px 3px 1px rgba(0, 0, 0, 0.15);\n",
              "      filter: drop-shadow(0px 1px 2px rgba(0, 0, 0, 0.3));\n",
              "      fill: #FFFFFF;\n",
              "    }\n",
              "  </style>\n",
              "\n",
              "      <script>\n",
              "        const buttonEl =\n",
              "          document.querySelector('#df-2edd5338-0d06-4dea-a1c5-24be85be0bde button.colab-df-convert');\n",
              "        buttonEl.style.display =\n",
              "          google.colab.kernel.accessAllowed ? 'block' : 'none';\n",
              "\n",
              "        async function convertToInteractive(key) {\n",
              "          const element = document.querySelector('#df-2edd5338-0d06-4dea-a1c5-24be85be0bde');\n",
              "          const dataTable =\n",
              "            await google.colab.kernel.invokeFunction('convertToInteractive',\n",
              "                                                     [key], {});\n",
              "          if (!dataTable) return;\n",
              "\n",
              "          const docLinkHtml = 'Like what you see? Visit the ' +\n",
              "            '<a target=\"_blank\" href=https://colab.research.google.com/notebooks/data_table.ipynb>data table notebook</a>'\n",
              "            + ' to learn more about interactive tables.';\n",
              "          element.innerHTML = '';\n",
              "          dataTable['output_type'] = 'display_data';\n",
              "          await google.colab.output.renderOutput(dataTable, element);\n",
              "          const docLink = document.createElement('div');\n",
              "          docLink.innerHTML = docLinkHtml;\n",
              "          element.appendChild(docLink);\n",
              "        }\n",
              "      </script>\n",
              "    </div>\n",
              "  </div>\n",
              "  "
            ],
            "text/plain": [
              "     Input  Information_Gain\n",
              "14     V14          0.757163\n",
              "4       V4          0.039750\n",
              "12     V12          0.038008\n",
              "20     V20          0.022351\n",
              "29  Amount          0.015394\n",
              "16     V16          0.013789\n",
              "5       V5          0.013756\n",
              "0     Time          0.012564\n",
              "7       V7          0.011594\n",
              "13     V13          0.011225\n",
              "10     V10          0.009089\n",
              "26     V26          0.008610\n",
              "18     V18          0.007224\n",
              "19     V19          0.005391\n",
              "9       V9          0.005371\n",
              "28     V28          0.005115\n",
              "11     V11          0.004659\n",
              "22     V22          0.004588\n",
              "3       V3          0.003509\n",
              "23     V23          0.003146\n",
              "8       V8          0.002159\n",
              "21     V21          0.002060\n",
              "17     V17          0.001124\n",
              "1       V1          0.001090\n",
              "2       V2          0.000571\n",
              "24     V24          0.000237\n",
              "6       V6          0.000149\n",
              "25     V25          0.000144\n",
              "27     V27          0.000090\n",
              "15     V15          0.000080"
            ]
          },
          "execution_count": 30,
          "metadata": {},
          "output_type": "execute_result"
        }
      ],
      "source": [
        "#create A dataframe with sorting to disply information gain\n",
        "dic={'Input':column,'Information_Gain':IG}\n",
        "df1=pd.DataFrame(dic)\n",
        "df1.sort_values('Information_Gain',ascending=False)"
      ]
    },
    {
      "cell_type": "code",
      "execution_count": null,
      "metadata": {
        "colab": {
          "base_uri": "https://localhost:8080/",
          "height": 35
        },
        "id": "KehexX7HNo9V",
        "outputId": "78aa36df-8f1d-4cdb-b93c-2f2793e55b52"
      },
      "outputs": [
        {
          "data": {
            "text/plain": [
              "<Figure size 1440x1440 with 0 Axes>"
            ]
          },
          "metadata": {},
          "output_type": "display_data"
        }
      ],
      "source": [
        "#create a decision tree\n",
        "from sklearn import tree\n",
        "features=X.columns\n",
        "fig=plt.figure(figsize=(20,20))\n",
        "#_=tree.plot_tree(dt,feature_names=features,filled=True)\n"
      ]
    },
    {
      "cell_type": "code",
      "execution_count": null,
      "metadata": {
        "id": "AKUVkgIzQDdw"
      },
      "outputs": [],
      "source": [
        "#pruning technique to reduce overfitting from decisiontreeclassifer"
      ]
    },
    {
      "cell_type": "code",
      "execution_count": null,
      "metadata": {
        "id": "1cNlEnOXOenD"
      },
      "outputs": [],
      "source": [
        "#But we got less score 0.66 % its good but not excellent , \n",
        "#region behind less score , overfit means \n",
        "#model is overfit so reduced the overfitting situation : - \n",
        "#then we use pruning technique \n",
        "\n",
        "#How to reduced a overfitting situation \n",
        "#By using the Pruning technique : -\n",
        "#There are 2 types of pruning technique : -\n",
        "#1. max_depth : inbulit parameter\n",
        "#2. min_samples_leaf  : inbuilt parameter\n",
        "#leaf means no child"
      ]
    },
    {
      "cell_type": "code",
      "execution_count": null,
      "metadata": {
        "id": "sCFQILfWP1_w"
      },
      "outputs": [],
      "source": [
        "#Limitation of decisiontreeclassifier :the model is overfit many times\n",
        "#advantage of decisiontreeclassifier:we do not select features manually"
      ]
    },
    {
      "cell_type": "code",
      "execution_count": null,
      "metadata": {
        "id": "8zCw_ZWeQBgv"
      },
      "outputs": [],
      "source": [
        "#1.max_depth\n",
        "#1. max_depth parameter  \n",
        "##create object of DecisionTreeClassifier class\n",
        "dt1=DecisionTreeClassifier(max_depth=6,random_state=1)\n",
        "#Note : max_depth can not more than 8\n",
        "#by default use method : gini index"
      ]
    },
    {
      "cell_type": "code",
      "execution_count": null,
      "metadata": {
        "colab": {
          "base_uri": "https://localhost:8080/"
        },
        "id": "_aXK0SDTQtNV",
        "outputId": "0214ae29-3ec8-401b-d75c-8c2a064db30c"
      },
      "outputs": [
        {
          "name": "stdout",
          "output_type": "stream",
          "text": [
            "              precision    recall  f1-score   support\n",
            "\n",
            "           0       0.84      0.97      0.90     85308\n",
            "           1       0.96      0.82      0.89     85308\n",
            "\n",
            "    accuracy                           0.89    170616\n",
            "   macro avg       0.90      0.89      0.89    170616\n",
            "weighted avg       0.90      0.89      0.89    170616\n",
            "\n",
            "confusion matrix:\n",
            "[[82752  2556]\n",
            " [15550 69758]]\n"
          ]
        }
      ],
      "source": [
        "#train the model with max_depth parameter\n",
        "dt1=create_model(dt1)"
      ]
    },
    {
      "cell_type": "code",
      "execution_count": null,
      "metadata": {
        "colab": {
          "base_uri": "https://localhost:8080/",
          "height": 1000
        },
        "id": "bFZF_x1yQs9z",
        "outputId": "2faaed19-3b49-4add-c245-1f99e8821df1"
      },
      "outputs": [
        {
          "data": {
            "image/png": "[encoded data removed]",
            "text/plain": [
              "<Figure size 1440x1440 with 1 Axes>"
            ]
          },
          "metadata": {},
          "output_type": "display_data"
        }
      ],
      "source": [
        "#again create the tree with max_depth parameter\n",
        "fig=plt.figure(figsize=(20,20))\n",
        "_=tree.plot_tree(dt1,feature_names=features,filled=True)"
      ]
    },
    {
      "cell_type": "code",
      "execution_count": null,
      "metadata": {
        "colab": {
          "base_uri": "https://localhost:8080/"
        },
        "id": "Vgt7YE84Sybq",
        "outputId": "757b40f3-743e-49d2-c7b0-e2a18fa2345c"
      },
      "outputs": [
        {
          "name": "stdout",
          "output_type": "stream",
          "text": [
            "[1.02172057e-02 0.00000000e+00 5.38904131e-04 0.00000000e+00\n",
            " 4.25976227e-02 7.46995767e-03 0.00000000e+00 5.75621935e-03\n",
            " 0.00000000e+00 1.02301246e-03 9.56315906e-03 2.26694285e-04\n",
            " 4.06866586e-02 4.70553675e-03 8.06435471e-01 0.00000000e+00\n",
            " 8.30078848e-03 0.00000000e+00 2.24556533e-03 0.00000000e+00\n",
            " 2.38866444e-02 0.00000000e+00 4.32883609e-03 1.30226107e-03\n",
            " 0.00000000e+00 0.00000000e+00 9.09999738e-03 0.00000000e+00\n",
            " 5.04848157e-03 1.65669844e-02]\n"
          ]
        }
      ],
      "source": [
        "#check importanat features with max_depth parameter\n",
        "IG=dt1.feature_importances_\n",
        "print(IG)"
      ]
    },
    {
      "cell_type": "code",
      "execution_count": null,
      "metadata": {
        "id": "vvNx_cpYTLCY"
      },
      "outputs": [],
      "source": [
        "column=X.columns"
      ]
    },
    {
      "cell_type": "code",
      "execution_count": null,
      "metadata": {
        "colab": {
          "base_uri": "https://localhost:8080/",
          "height": 990
        },
        "id": "HRhLANNATNcg",
        "outputId": "73d6f753-2faf-421f-d90d-13b757ccda77"
      },
      "outputs": [
        {
          "data": {
            "text/html": [
              "\n",
              "  <div id=\"df-a3cc6274-1e01-4213-b1be-ad2b98ecbf52\">\n",
              "    <div class=\"colab-df-container\">\n",
              "      <div>\n",
              "<style scoped>\n",
              "    .dataframe tbody tr th:only-of-type {\n",
              "        vertical-align: middle;\n",
              "    }\n",
              "\n",
              "    .dataframe tbody tr th {\n",
              "        vertical-align: top;\n",
              "    }\n",
              "\n",
              "    .dataframe thead th {\n",
              "        text-align: right;\n",
              "    }\n",
              "</style>\n",
              "<table border=\"1\" class=\"dataframe\">\n",
              "  <thead>\n",
              "    <tr style=\"text-align: right;\">\n",
              "      <th></th>\n",
              "      <th>Input</th>\n",
              "      <th>Information_Gain</th>\n",
              "    </tr>\n",
              "  </thead>\n",
              "  <tbody>\n",
              "    <tr>\n",
              "      <th>14</th>\n",
              "      <td>V14</td>\n",
              "      <td>0.806435</td>\n",
              "    </tr>\n",
              "    <tr>\n",
              "      <th>4</th>\n",
              "      <td>V4</td>\n",
              "      <td>0.042598</td>\n",
              "    </tr>\n",
              "    <tr>\n",
              "      <th>12</th>\n",
              "      <td>V12</td>\n",
              "      <td>0.040687</td>\n",
              "    </tr>\n",
              "    <tr>\n",
              "      <th>20</th>\n",
              "      <td>V20</td>\n",
              "      <td>0.023887</td>\n",
              "    </tr>\n",
              "    <tr>\n",
              "      <th>29</th>\n",
              "      <td>Amount</td>\n",
              "      <td>0.016567</td>\n",
              "    </tr>\n",
              "    <tr>\n",
              "      <th>0</th>\n",
              "      <td>Time</td>\n",
              "      <td>0.010217</td>\n",
              "    </tr>\n",
              "    <tr>\n",
              "      <th>10</th>\n",
              "      <td>V10</td>\n",
              "      <td>0.009563</td>\n",
              "    </tr>\n",
              "    <tr>\n",
              "      <th>26</th>\n",
              "      <td>V26</td>\n",
              "      <td>0.009100</td>\n",
              "    </tr>\n",
              "    <tr>\n",
              "      <th>16</th>\n",
              "      <td>V16</td>\n",
              "      <td>0.008301</td>\n",
              "    </tr>\n",
              "    <tr>\n",
              "      <th>5</th>\n",
              "      <td>V5</td>\n",
              "      <td>0.007470</td>\n",
              "    </tr>\n",
              "    <tr>\n",
              "      <th>7</th>\n",
              "      <td>V7</td>\n",
              "      <td>0.005756</td>\n",
              "    </tr>\n",
              "    <tr>\n",
              "      <th>28</th>\n",
              "      <td>V28</td>\n",
              "      <td>0.005048</td>\n",
              "    </tr>\n",
              "    <tr>\n",
              "      <th>13</th>\n",
              "      <td>V13</td>\n",
              "      <td>0.004706</td>\n",
              "    </tr>\n",
              "    <tr>\n",
              "      <th>22</th>\n",
              "      <td>V22</td>\n",
              "      <td>0.004329</td>\n",
              "    </tr>\n",
              "    <tr>\n",
              "      <th>18</th>\n",
              "      <td>V18</td>\n",
              "      <td>0.002246</td>\n",
              "    </tr>\n",
              "    <tr>\n",
              "      <th>23</th>\n",
              "      <td>V23</td>\n",
              "      <td>0.001302</td>\n",
              "    </tr>\n",
              "    <tr>\n",
              "      <th>9</th>\n",
              "      <td>V9</td>\n",
              "      <td>0.001023</td>\n",
              "    </tr>\n",
              "    <tr>\n",
              "      <th>2</th>\n",
              "      <td>V2</td>\n",
              "      <td>0.000539</td>\n",
              "    </tr>\n",
              "    <tr>\n",
              "      <th>11</th>\n",
              "      <td>V11</td>\n",
              "      <td>0.000227</td>\n",
              "    </tr>\n",
              "    <tr>\n",
              "      <th>27</th>\n",
              "      <td>V27</td>\n",
              "      <td>0.000000</td>\n",
              "    </tr>\n",
              "    <tr>\n",
              "      <th>25</th>\n",
              "      <td>V25</td>\n",
              "      <td>0.000000</td>\n",
              "    </tr>\n",
              "    <tr>\n",
              "      <th>24</th>\n",
              "      <td>V24</td>\n",
              "      <td>0.000000</td>\n",
              "    </tr>\n",
              "    <tr>\n",
              "      <th>6</th>\n",
              "      <td>V6</td>\n",
              "      <td>0.000000</td>\n",
              "    </tr>\n",
              "    <tr>\n",
              "      <th>21</th>\n",
              "      <td>V21</td>\n",
              "      <td>0.000000</td>\n",
              "    </tr>\n",
              "    <tr>\n",
              "      <th>19</th>\n",
              "      <td>V19</td>\n",
              "      <td>0.000000</td>\n",
              "    </tr>\n",
              "    <tr>\n",
              "      <th>17</th>\n",
              "      <td>V17</td>\n",
              "      <td>0.000000</td>\n",
              "    </tr>\n",
              "    <tr>\n",
              "      <th>1</th>\n",
              "      <td>V1</td>\n",
              "      <td>0.000000</td>\n",
              "    </tr>\n",
              "    <tr>\n",
              "      <th>3</th>\n",
              "      <td>V3</td>\n",
              "      <td>0.000000</td>\n",
              "    </tr>\n",
              "    <tr>\n",
              "      <th>8</th>\n",
              "      <td>V8</td>\n",
              "      <td>0.000000</td>\n",
              "    </tr>\n",
              "    <tr>\n",
              "      <th>15</th>\n",
              "      <td>V15</td>\n",
              "      <td>0.000000</td>\n",
              "    </tr>\n",
              "  </tbody>\n",
              "</table>\n",
              "</div>\n",
              "      <button class=\"colab-df-convert\" onclick=\"convertToInteractive('df-a3cc6274-1e01-4213-b1be-ad2b98ecbf52')\"\n",
              "              title=\"Convert this dataframe to an interactive table.\"\n",
              "              style=\"display:none;\">\n",
              "        \n",
              "  <svg xmlns=\"http://www.w3.org/2000/svg\" height=\"24px\"viewBox=\"0 0 24 24\"\n",
              "       width=\"24px\">\n",
              "    <path d=\"M0 0h24v24H0V0z\" fill=\"none\"/>\n",
              "    <path d=\"M18.56 5.44l.94 2.06.94-2.06 2.06-.94-2.06-.94-.94-2.06-.94 2.06-2.06.94zm-11 1L8.5 8.5l.94-2.06 2.06-.94-2.06-.94L8.5 2.5l-.94 2.06-2.06.94zm10 10l.94 2.06.94-2.06 2.06-.94-2.06-.94-.94-2.06-.94 2.06-2.06.94z\"/><path d=\"M17.41 7.96l-1.37-1.37c-.4-.4-.92-.59-1.43-.59-.52 0-1.04.2-1.43.59L10.3 9.45l-7.72 7.72c-.78.78-.78 2.05 0 2.83L4 21.41c.39.39.9.59 1.41.59.51 0 1.02-.2 1.41-.59l7.78-7.78 2.81-2.81c.8-.78.8-2.07 0-2.86zM5.41 20L4 18.59l7.72-7.72 1.47 1.35L5.41 20z\"/>\n",
              "  </svg>\n",
              "      </button>\n",
              "      \n",
              "  <style>\n",
              "    .colab-df-container {\n",
              "      display:flex;\n",
              "      flex-wrap:wrap;\n",
              "      gap: 12px;\n",
              "    }\n",
              "\n",
              "    .colab-df-convert {\n",
              "      background-color: #E8F0FE;\n",
              "      border: none;\n",
              "      border-radius: 50%;\n",
              "      cursor: pointer;\n",
              "      display: none;\n",
              "      fill: #1967D2;\n",
              "      height: 32px;\n",
              "      padding: 0 0 0 0;\n",
              "      width: 32px;\n",
              "    }\n",
              "\n",
              "    .colab-df-convert:hover {\n",
              "      background-color: #E2EBFA;\n",
              "      box-shadow: 0px 1px 2px rgba(60, 64, 67, 0.3), 0px 1px 3px 1px rgba(60, 64, 67, 0.15);\n",
              "      fill: #174EA6;\n",
              "    }\n",
              "\n",
              "    [theme=dark] .colab-df-convert {\n",
              "      background-color: #3B4455;\n",
              "      fill: #D2E3FC;\n",
              "    }\n",
              "\n",
              "    [theme=dark] .colab-df-convert:hover {\n",
              "      background-color: #434B5C;\n",
              "      box-shadow: 0px 1px 3px 1px rgba(0, 0, 0, 0.15);\n",
              "      filter: drop-shadow(0px 1px 2px rgba(0, 0, 0, 0.3));\n",
              "      fill: #FFFFFF;\n",
              "    }\n",
              "  </style>\n",
              "\n",
              "      <script>\n",
              "        const buttonEl =\n",
              "          document.querySelector('#df-a3cc6274-1e01-4213-b1be-ad2b98ecbf52 button.colab-df-convert');\n",
              "        buttonEl.style.display =\n",
              "          google.colab.kernel.accessAllowed ? 'block' : 'none';\n",
              "\n",
              "        async function convertToInteractive(key) {\n",
              "          const element = document.querySelector('#df-a3cc6274-1e01-4213-b1be-ad2b98ecbf52');\n",
              "          const dataTable =\n",
              "            await google.colab.kernel.invokeFunction('convertToInteractive',\n",
              "                                                     [key], {});\n",
              "          if (!dataTable) return;\n",
              "\n",
              "          const docLinkHtml = 'Like what you see? Visit the ' +\n",
              "            '<a target=\"_blank\" href=https://colab.research.google.com/notebooks/data_table.ipynb>data table notebook</a>'\n",
              "            + ' to learn more about interactive tables.';\n",
              "          element.innerHTML = '';\n",
              "          dataTable['output_type'] = 'display_data';\n",
              "          await google.colab.output.renderOutput(dataTable, element);\n",
              "          const docLink = document.createElement('div');\n",
              "          docLink.innerHTML = docLinkHtml;\n",
              "          element.appendChild(docLink);\n",
              "        }\n",
              "      </script>\n",
              "    </div>\n",
              "  </div>\n",
              "  "
            ],
            "text/plain": [
              "     Input  Information_Gain\n",
              "14     V14          0.806435\n",
              "4       V4          0.042598\n",
              "12     V12          0.040687\n",
              "20     V20          0.023887\n",
              "29  Amount          0.016567\n",
              "0     Time          0.010217\n",
              "10     V10          0.009563\n",
              "26     V26          0.009100\n",
              "16     V16          0.008301\n",
              "5       V5          0.007470\n",
              "7       V7          0.005756\n",
              "28     V28          0.005048\n",
              "13     V13          0.004706\n",
              "22     V22          0.004329\n",
              "18     V18          0.002246\n",
              "23     V23          0.001302\n",
              "9       V9          0.001023\n",
              "2       V2          0.000539\n",
              "11     V11          0.000227\n",
              "27     V27          0.000000\n",
              "25     V25          0.000000\n",
              "24     V24          0.000000\n",
              "6       V6          0.000000\n",
              "21     V21          0.000000\n",
              "19     V19          0.000000\n",
              "17     V17          0.000000\n",
              "1       V1          0.000000\n",
              "3       V3          0.000000\n",
              "8       V8          0.000000\n",
              "15     V15          0.000000"
            ]
          },
          "execution_count": 40,
          "metadata": {},
          "output_type": "execute_result"
        }
      ],
      "source": [
        "#cretae a dataframe for information gain\n",
        "dic={'Input':column,'Information_Gain':IG}\n",
        "df2=pd.DataFrame(dic)\n",
        "df2.sort_values('Information_Gain',ascending=False)\n"
      ]
    },
    {
      "cell_type": "code",
      "execution_count": null,
      "metadata": {
        "id": "z9xcsaj5TrFv"
      },
      "outputs": [],
      "source": [
        "#apply 2nd method min_sample_leaf:\n",
        "#2nd purning technique : min_samples_leaf\n",
        "#min_samples_leaf =50 or more means not less than=50\n",
        "##create object of DecisionTreeClassifier class\n",
        "dt2=DecisionTreeClassifier(min_samples_leaf=70,random_state=1)"
      ]
    },
    {
      "cell_type": "code",
      "execution_count": null,
      "metadata": {
        "colab": {
          "base_uri": "https://localhost:8080/"
        },
        "id": "GzPUW0cOUT0Y",
        "outputId": "450397f6-824d-42c6-8696-539970eecedd"
      },
      "outputs": [
        {
          "name": "stdout",
          "output_type": "stream",
          "text": [
            "              precision    recall  f1-score   support\n",
            "\n",
            "           0       0.83      1.00      0.91     85308\n",
            "           1       1.00      0.80      0.88     85308\n",
            "\n",
            "    accuracy                           0.90    170616\n",
            "   macro avg       0.91      0.90      0.90    170616\n",
            "weighted avg       0.91      0.90      0.90    170616\n",
            "\n",
            "confusion matrix:\n",
            "[[85058   250]\n",
            " [17472 67836]]\n"
          ]
        }
      ],
      "source": [
        "#call function(train the model)\n",
        "dt2=create_model(dt2)"
      ]
    },
    {
      "cell_type": "code",
      "execution_count": null,
      "metadata": {
        "id": "RY1vcUTcUdal"
      },
      "outputs": [],
      "source": [
        "# max_depth=4 of pruning technique is best for the creditcard dataset till that."
      ]
    },
    {
      "cell_type": "code",
      "execution_count": null,
      "metadata": {
        "colab": {
          "base_uri": "https://localhost:8080/",
          "height": 1000
        },
        "id": "4l1KVVo6XoeX",
        "outputId": "2e884b87-1af3-4d4f-b9fb-7f826f1ee08f"
      },
      "outputs": [
        {
          "name": "stdout",
          "output_type": "stream",
          "text": [
            "[1.25121539e-02 3.15388532e-06 0.00000000e+00 3.36800653e-03\n",
            " 3.97772829e-02 1.33889911e-02 2.28427080e-08 1.11887240e-02\n",
            " 1.76129166e-04 5.37074874e-03 7.98962624e-03 4.45076947e-03\n",
            " 3.86807735e-02 1.19926849e-02 7.63939259e-01 6.74696883e-04\n",
            " 1.34764720e-02 9.56915608e-04 7.06450974e-03 5.13264774e-03\n",
            " 2.23051370e-02 2.11646751e-03 3.52637148e-03 3.14391502e-03\n",
            " 6.89370027e-08 4.79553811e-06 8.49798018e-03 1.90514090e-07\n",
            " 4.76824760e-03 1.54932584e-02]\n"
          ]
        },
        {
          "data": {
            "text/html": [
              "\n",
              "  <div id=\"df-e04a2a7d-55a9-47b9-9047-f652fd0db5d7\">\n",
              "    <div class=\"colab-df-container\">\n",
              "      <div>\n",
              "<style scoped>\n",
              "    .dataframe tbody tr th:only-of-type {\n",
              "        vertical-align: middle;\n",
              "    }\n",
              "\n",
              "    .dataframe tbody tr th {\n",
              "        vertical-align: top;\n",
              "    }\n",
              "\n",
              "    .dataframe thead th {\n",
              "        text-align: right;\n",
              "    }\n",
              "</style>\n",
              "<table border=\"1\" class=\"dataframe\">\n",
              "  <thead>\n",
              "    <tr style=\"text-align: right;\">\n",
              "      <th></th>\n",
              "      <th>Input</th>\n",
              "      <th>Information_Gain</th>\n",
              "    </tr>\n",
              "  </thead>\n",
              "  <tbody>\n",
              "    <tr>\n",
              "      <th>14</th>\n",
              "      <td>V14</td>\n",
              "      <td>7.639393e-01</td>\n",
              "    </tr>\n",
              "    <tr>\n",
              "      <th>4</th>\n",
              "      <td>V4</td>\n",
              "      <td>3.977728e-02</td>\n",
              "    </tr>\n",
              "    <tr>\n",
              "      <th>12</th>\n",
              "      <td>V12</td>\n",
              "      <td>3.868077e-02</td>\n",
              "    </tr>\n",
              "    <tr>\n",
              "      <th>20</th>\n",
              "      <td>V20</td>\n",
              "      <td>2.230514e-02</td>\n",
              "    </tr>\n",
              "    <tr>\n",
              "      <th>29</th>\n",
              "      <td>Amount</td>\n",
              "      <td>1.549326e-02</td>\n",
              "    </tr>\n",
              "    <tr>\n",
              "      <th>16</th>\n",
              "      <td>V16</td>\n",
              "      <td>1.347647e-02</td>\n",
              "    </tr>\n",
              "    <tr>\n",
              "      <th>5</th>\n",
              "      <td>V5</td>\n",
              "      <td>1.338899e-02</td>\n",
              "    </tr>\n",
              "    <tr>\n",
              "      <th>0</th>\n",
              "      <td>Time</td>\n",
              "      <td>1.251215e-02</td>\n",
              "    </tr>\n",
              "    <tr>\n",
              "      <th>13</th>\n",
              "      <td>V13</td>\n",
              "      <td>1.199268e-02</td>\n",
              "    </tr>\n",
              "    <tr>\n",
              "      <th>7</th>\n",
              "      <td>V7</td>\n",
              "      <td>1.118872e-02</td>\n",
              "    </tr>\n",
              "    <tr>\n",
              "      <th>26</th>\n",
              "      <td>V26</td>\n",
              "      <td>8.497980e-03</td>\n",
              "    </tr>\n",
              "    <tr>\n",
              "      <th>10</th>\n",
              "      <td>V10</td>\n",
              "      <td>7.989626e-03</td>\n",
              "    </tr>\n",
              "    <tr>\n",
              "      <th>18</th>\n",
              "      <td>V18</td>\n",
              "      <td>7.064510e-03</td>\n",
              "    </tr>\n",
              "    <tr>\n",
              "      <th>9</th>\n",
              "      <td>V9</td>\n",
              "      <td>5.370749e-03</td>\n",
              "    </tr>\n",
              "    <tr>\n",
              "      <th>19</th>\n",
              "      <td>V19</td>\n",
              "      <td>5.132648e-03</td>\n",
              "    </tr>\n",
              "    <tr>\n",
              "      <th>28</th>\n",
              "      <td>V28</td>\n",
              "      <td>4.768248e-03</td>\n",
              "    </tr>\n",
              "    <tr>\n",
              "      <th>11</th>\n",
              "      <td>V11</td>\n",
              "      <td>4.450769e-03</td>\n",
              "    </tr>\n",
              "    <tr>\n",
              "      <th>22</th>\n",
              "      <td>V22</td>\n",
              "      <td>3.526371e-03</td>\n",
              "    </tr>\n",
              "    <tr>\n",
              "      <th>3</th>\n",
              "      <td>V3</td>\n",
              "      <td>3.368007e-03</td>\n",
              "    </tr>\n",
              "    <tr>\n",
              "      <th>23</th>\n",
              "      <td>V23</td>\n",
              "      <td>3.143915e-03</td>\n",
              "    </tr>\n",
              "    <tr>\n",
              "      <th>21</th>\n",
              "      <td>V21</td>\n",
              "      <td>2.116468e-03</td>\n",
              "    </tr>\n",
              "    <tr>\n",
              "      <th>17</th>\n",
              "      <td>V17</td>\n",
              "      <td>9.569156e-04</td>\n",
              "    </tr>\n",
              "    <tr>\n",
              "      <th>15</th>\n",
              "      <td>V15</td>\n",
              "      <td>6.746969e-04</td>\n",
              "    </tr>\n",
              "    <tr>\n",
              "      <th>8</th>\n",
              "      <td>V8</td>\n",
              "      <td>1.761292e-04</td>\n",
              "    </tr>\n",
              "    <tr>\n",
              "      <th>25</th>\n",
              "      <td>V25</td>\n",
              "      <td>4.795538e-06</td>\n",
              "    </tr>\n",
              "    <tr>\n",
              "      <th>1</th>\n",
              "      <td>V1</td>\n",
              "      <td>3.153885e-06</td>\n",
              "    </tr>\n",
              "    <tr>\n",
              "      <th>27</th>\n",
              "      <td>V27</td>\n",
              "      <td>1.905141e-07</td>\n",
              "    </tr>\n",
              "    <tr>\n",
              "      <th>24</th>\n",
              "      <td>V24</td>\n",
              "      <td>6.893700e-08</td>\n",
              "    </tr>\n",
              "    <tr>\n",
              "      <th>6</th>\n",
              "      <td>V6</td>\n",
              "      <td>2.284271e-08</td>\n",
              "    </tr>\n",
              "    <tr>\n",
              "      <th>2</th>\n",
              "      <td>V2</td>\n",
              "      <td>0.000000e+00</td>\n",
              "    </tr>\n",
              "  </tbody>\n",
              "</table>\n",
              "</div>\n",
              "      <button class=\"colab-df-convert\" onclick=\"convertToInteractive('df-e04a2a7d-55a9-47b9-9047-f652fd0db5d7')\"\n",
              "              title=\"Convert this dataframe to an interactive table.\"\n",
              "              style=\"display:none;\">\n",
              "        \n",
              "  <svg xmlns=\"http://www.w3.org/2000/svg\" height=\"24px\"viewBox=\"0 0 24 24\"\n",
              "       width=\"24px\">\n",
              "    <path d=\"M0 0h24v24H0V0z\" fill=\"none\"/>\n",
              "    <path d=\"M18.56 5.44l.94 2.06.94-2.06 2.06-.94-2.06-.94-.94-2.06-.94 2.06-2.06.94zm-11 1L8.5 8.5l.94-2.06 2.06-.94-2.06-.94L8.5 2.5l-.94 2.06-2.06.94zm10 10l.94 2.06.94-2.06 2.06-.94-2.06-.94-.94-2.06-.94 2.06-2.06.94z\"/><path d=\"M17.41 7.96l-1.37-1.37c-.4-.4-.92-.59-1.43-.59-.52 0-1.04.2-1.43.59L10.3 9.45l-7.72 7.72c-.78.78-.78 2.05 0 2.83L4 21.41c.39.39.9.59 1.41.59.51 0 1.02-.2 1.41-.59l7.78-7.78 2.81-2.81c.8-.78.8-2.07 0-2.86zM5.41 20L4 18.59l7.72-7.72 1.47 1.35L5.41 20z\"/>\n",
              "  </svg>\n",
              "      </button>\n",
              "      \n",
              "  <style>\n",
              "    .colab-df-container {\n",
              "      display:flex;\n",
              "      flex-wrap:wrap;\n",
              "      gap: 12px;\n",
              "    }\n",
              "\n",
              "    .colab-df-convert {\n",
              "      background-color: #E8F0FE;\n",
              "      border: none;\n",
              "      border-radius: 50%;\n",
              "      cursor: pointer;\n",
              "      display: none;\n",
              "      fill: #1967D2;\n",
              "      height: 32px;\n",
              "      padding: 0 0 0 0;\n",
              "      width: 32px;\n",
              "    }\n",
              "\n",
              "    .colab-df-convert:hover {\n",
              "      background-color: #E2EBFA;\n",
              "      box-shadow: 0px 1px 2px rgba(60, 64, 67, 0.3), 0px 1px 3px 1px rgba(60, 64, 67, 0.15);\n",
              "      fill: #174EA6;\n",
              "    }\n",
              "\n",
              "    [theme=dark] .colab-df-convert {\n",
              "      background-color: #3B4455;\n",
              "      fill: #D2E3FC;\n",
              "    }\n",
              "\n",
              "    [theme=dark] .colab-df-convert:hover {\n",
              "      background-color: #434B5C;\n",
              "      box-shadow: 0px 1px 3px 1px rgba(0, 0, 0, 0.15);\n",
              "      filter: drop-shadow(0px 1px 2px rgba(0, 0, 0, 0.3));\n",
              "      fill: #FFFFFF;\n",
              "    }\n",
              "  </style>\n",
              "\n",
              "      <script>\n",
              "        const buttonEl =\n",
              "          document.querySelector('#df-e04a2a7d-55a9-47b9-9047-f652fd0db5d7 button.colab-df-convert');\n",
              "        buttonEl.style.display =\n",
              "          google.colab.kernel.accessAllowed ? 'block' : 'none';\n",
              "\n",
              "        async function convertToInteractive(key) {\n",
              "          const element = document.querySelector('#df-e04a2a7d-55a9-47b9-9047-f652fd0db5d7');\n",
              "          const dataTable =\n",
              "            await google.colab.kernel.invokeFunction('convertToInteractive',\n",
              "                                                     [key], {});\n",
              "          if (!dataTable) return;\n",
              "\n",
              "          const docLinkHtml = 'Like what you see? Visit the ' +\n",
              "            '<a target=\"_blank\" href=https://colab.research.google.com/notebooks/data_table.ipynb>data table notebook</a>'\n",
              "            + ' to learn more about interactive tables.';\n",
              "          element.innerHTML = '';\n",
              "          dataTable['output_type'] = 'display_data';\n",
              "          await google.colab.output.renderOutput(dataTable, element);\n",
              "          const docLink = document.createElement('div');\n",
              "          docLink.innerHTML = docLinkHtml;\n",
              "          element.appendChild(docLink);\n",
              "        }\n",
              "      </script>\n",
              "    </div>\n",
              "  </div>\n",
              "  "
            ],
            "text/plain": [
              "     Input  Information_Gain\n",
              "14     V14      7.639393e-01\n",
              "4       V4      3.977728e-02\n",
              "12     V12      3.868077e-02\n",
              "20     V20      2.230514e-02\n",
              "29  Amount      1.549326e-02\n",
              "16     V16      1.347647e-02\n",
              "5       V5      1.338899e-02\n",
              "0     Time      1.251215e-02\n",
              "13     V13      1.199268e-02\n",
              "7       V7      1.118872e-02\n",
              "26     V26      8.497980e-03\n",
              "10     V10      7.989626e-03\n",
              "18     V18      7.064510e-03\n",
              "9       V9      5.370749e-03\n",
              "19     V19      5.132648e-03\n",
              "28     V28      4.768248e-03\n",
              "11     V11      4.450769e-03\n",
              "22     V22      3.526371e-03\n",
              "3       V3      3.368007e-03\n",
              "23     V23      3.143915e-03\n",
              "21     V21      2.116468e-03\n",
              "17     V17      9.569156e-04\n",
              "15     V15      6.746969e-04\n",
              "8       V8      1.761292e-04\n",
              "25     V25      4.795538e-06\n",
              "1       V1      3.153885e-06\n",
              "27     V27      1.905141e-07\n",
              "24     V24      6.893700e-08\n",
              "6       V6      2.284271e-08\n",
              "2       V2      0.000000e+00"
            ]
          },
          "execution_count": 44,
          "metadata": {},
          "output_type": "execute_result"
        }
      ],
      "source": [
        "#display the information gain\n",
        "\n",
        "IG=dt2.feature_importances_\n",
        "print(IG)\n",
        "column=X.columns\n",
        "\n",
        "#creaet a dataframe\n",
        "dic={'Input':column,'Information_Gain':IG}\n",
        "df3=pd.DataFrame(dic)\n",
        "df3.sort_values('Information_Gain',ascending=False)\n"
      ]
    },
    {
      "cell_type": "code",
      "execution_count": null,
      "metadata": {
        "colab": {
          "base_uri": "https://localhost:8080/",
          "height": 35
        },
        "id": "Opl-VA-sYlkN",
        "outputId": "27699b1d-97fb-4edf-b3a4-c5ce8ce9a173"
      },
      "outputs": [
        {
          "data": {
            "text/plain": [
              "<Figure size 1440x1440 with 0 Axes>"
            ]
          },
          "metadata": {},
          "output_type": "display_data"
        }
      ],
      "source": [
        "#create tree with min_samples_leaf\n",
        "fig=plt.figure(figsize=(20,20))\n",
        "#_=tree.plot_tree(dt2,feature_names=features,filled=True)"
      ]
    },
    {
      "cell_type": "code",
      "execution_count": null,
      "metadata": {
        "id": "7ahzpA98Y9xT"
      },
      "outputs": [],
      "source": [
        "#use of entropy method\n",
        "#use entropy method of decisiontree \n",
        "#means -P(yes)*log2P(yes)-P(No)*log2(P(no))\n",
        "#here log2 means base of log=2\n",
        "##create object of DecisionTreeClassifier class\n",
        "dt3=DecisionTreeClassifier(criterion='entropy',\n",
        "                           max_depth=3,random_state=1)\n",
        "#bydefault criterion='gini' means 1-P(yes)^2-Q(no)^2"
      ]
    },
    {
      "cell_type": "code",
      "execution_count": null,
      "metadata": {
        "colab": {
          "base_uri": "https://localhost:8080/"
        },
        "id": "SXud8XvLZYEr",
        "outputId": "a03a4772-8729-4045-d6e2-fea565922008"
      },
      "outputs": [
        {
          "name": "stdout",
          "output_type": "stream",
          "text": [
            "              precision    recall  f1-score   support\n",
            "\n",
            "           0       0.87      0.97      0.92     85308\n",
            "           1       0.97      0.85      0.91     85308\n",
            "\n",
            "    accuracy                           0.91    170616\n",
            "   macro avg       0.92      0.91      0.91    170616\n",
            "weighted avg       0.92      0.91      0.91    170616\n",
            "\n",
            "confusion matrix:\n",
            "[[82844  2464]\n",
            " [12446 72862]]\n"
          ]
        }
      ],
      "source": [
        "#call function train the model with max_depth of entropy method\n",
        "dt3=create_model(dt3)"
      ]
    },
    {
      "cell_type": "code",
      "execution_count": null,
      "metadata": {
        "id": "AJ8K5nmLZuXq"
      },
      "outputs": [],
      "source": [
        "#create object of decisionTreeClasifier class\n",
        "dt4=DecisionTreeClassifier(criterion='entropy',min_samples_leaf=70,random_state=1)"
      ]
    },
    {
      "cell_type": "code",
      "execution_count": null,
      "metadata": {
        "colab": {
          "base_uri": "https://localhost:8080/"
        },
        "id": "XdhKmXf4bYEH",
        "outputId": "3a0cbec1-1dbf-4de0-bd56-1598814142b8"
      },
      "outputs": [
        {
          "name": "stdout",
          "output_type": "stream",
          "text": [
            "              precision    recall  f1-score   support\n",
            "\n",
            "           0       0.83      1.00      0.91     85308\n",
            "           1       1.00      0.80      0.89     85308\n",
            "\n",
            "    accuracy                           0.90    170616\n",
            "   macro avg       0.92      0.90      0.90    170616\n",
            "weighted avg       0.92      0.90      0.90    170616\n",
            "\n",
            "confusion matrix:\n",
            "[[85043   265]\n",
            " [16815 68493]]\n"
          ]
        }
      ],
      "source": [
        "#call function and train the model with min_samples_leaf of entropy method\n",
        "dt4=create_model(dt4)"
      ]
    },
    {
      "cell_type": "code",
      "execution_count": null,
      "metadata": {
        "id": "gFLZ_nFBfiyd"
      },
      "outputs": [],
      "source": [
        "#The max_depth with gini index is best for creditcard dataset from both of gini index and entropy of max_Depth and min_samples_leaf method\n",
        "#The value of max_depth of gini index is 6 score is 0.85 this is the good for credit card dataset"
      ]
    },
    {
      "cell_type": "code",
      "execution_count": null,
      "metadata": {
        "colab": {
          "base_uri": "https://localhost:8080/",
          "height": 53
        },
        "id": "UkkJnAZdgFRN",
        "outputId": "806e4575-40b8-4078-9037-332e315bd7a7"
      },
      "outputs": [
        {
          "data": {
            "application/vnd.google.colaboratory.intrinsic+json": {
              "type": "string"
            },
            "text/plain": [
              "'Énsembling Technique:-\\n1.Naive Aggregation method\\n  a.Hard voting  b.soft voting\\n2.Bootstraping method\\n a.Bagging   b.pasting  c.random forest tree\\n3.Boosting Technique\\n a.ADA Boost   b.Gradient Boost  c.xtreme Gradient Boost(XGB)\\n4.Stacking classifier \\n'"
            ]
          },
          "execution_count": 51,
          "metadata": {},
          "output_type": "execute_result"
        }
      ],
      "source": [
        "'''Énsembling Technique:-\n",
        "1.Naive Aggregation method\n",
        "  a.Hard voting  b.soft voting\n",
        "2.Bootstraping method\n",
        " a.Bagging   b.pasting  c.random forest tree\n",
        "3.Boosting Technique\n",
        " a.ADA Boost   b.Gradient Boost  c.xtreme Gradient Boost(XGB)\n",
        "4.Stacking classifier \n",
        "'''\n",
        "\n",
        "#only Bootstraping method and Boosting techniques are we study here\n",
        "#only those 2 methods are important for data scientist"
      ]
    },
    {
      "cell_type": "code",
      "execution_count": null,
      "metadata": {
        "colab": {
          "base_uri": "https://localhost:8080/",
          "height": 35
        },
        "id": "jWk4oxRlgQbL",
        "outputId": "fbee5c3d-4825-424b-fcb0-cc5f3aaa4cf3"
      },
      "outputs": [
        {
          "data": {
            "application/vnd.google.colaboratory.intrinsic+json": {
              "type": "string"
            },
            "text/plain": [
              "'\\nTrain the dataset on multiple decisiontreeclassifier algorithum\\n\\n'"
            ]
          },
          "execution_count": 52,
          "metadata": {},
          "output_type": "execute_result"
        }
      ],
      "source": [
        "#Ensembling Technique\n",
        "#Random forest tree:-\n",
        "#Random forest tree mostly work on bagging\n",
        "'''\n",
        "Train the dataset on multiple decisiontreeclassifier algorithum\n",
        "\n",
        "'''\n",
        "#call random forest tree from pckage\n",
        "#ensemble means to train the same dataset from multiple algorithum"
      ]
    },
    {
      "cell_type": "code",
      "execution_count": null,
      "metadata": {
        "id": "XXHBXGw5gXHR"
      },
      "outputs": [],
      "source": [
        "#import the randomforesttree \n",
        "from sklearn.ensemble import RandomForestClassifier\n",
        "\n",
        "#create object of randomforestclasifer\n",
        "rfc=RandomForestClassifier(n_estimators=10,max_features=15,random_state=1)\n",
        "\n",
        "#here n_estimators means take how many no. of decisiontreeclassifier\n",
        "#max_features mean max important columns means input"
      ]
    },
    {
      "cell_type": "code",
      "execution_count": null,
      "metadata": {
        "colab": {
          "base_uri": "https://localhost:8080/"
        },
        "id": "o0IIxJiRgt_S",
        "outputId": "472eb028-fded-477e-b386-2ddda24d4a70"
      },
      "outputs": [
        {
          "name": "stdout",
          "output_type": "stream",
          "text": [
            "              precision    recall  f1-score   support\n",
            "\n",
            "           0       0.80      1.00      0.89     85308\n",
            "           1       1.00      0.76      0.86     85308\n",
            "\n",
            "    accuracy                           0.88    170616\n",
            "   macro avg       0.90      0.88      0.88    170616\n",
            "weighted avg       0.90      0.88      0.88    170616\n",
            "\n",
            "confusion matrix:\n",
            "[[85299     9]\n",
            " [20709 64599]]\n"
          ]
        }
      ],
      "source": [
        "#create the model\n",
        "#call the function\n",
        "rfc=create_model(rfc)"
      ]
    },
    {
      "cell_type": "markdown",
      "metadata": {
        "id": "UW2kCh1Jivk2"
      },
      "source": [
        "ADA Boosting"
      ]
    },
    {
      "cell_type": "code",
      "execution_count": null,
      "metadata": {
        "id": "_k4_DQ9qiy_J"
      },
      "outputs": [],
      "source": [
        "#ADA Boosting :-ADA Boost making decision stump\n",
        "#Apply ADA Boost on given dataset\n",
        "from sklearn.ensemble import AdaBoostClassifier"
      ]
    },
    {
      "cell_type": "code",
      "execution_count": null,
      "metadata": {
        "id": "IdAUkCcfjkYM"
      },
      "outputs": [],
      "source": [
        "#create the object of AdaBoostClassifier class\n",
        "ada=AdaBoostClassifier(n_estimators=25,random_state=1)\n",
        "#n_Estimators can be <=100 means n_estimators can not be more then 100"
      ]
    },
    {
      "cell_type": "code",
      "execution_count": null,
      "metadata": {
        "colab": {
          "base_uri": "https://localhost:8080/"
        },
        "id": "-TJ6V5DzkDWB",
        "outputId": "10abad1f-4e85-4e67-a178-a2d8e4364ab2"
      },
      "outputs": [
        {
          "name": "stdout",
          "output_type": "stream",
          "text": [
            "              precision    recall  f1-score   support\n",
            "\n",
            "           0       0.89      0.97      0.93     85308\n",
            "           1       0.97      0.88      0.92     85308\n",
            "\n",
            "    accuracy                           0.93    170616\n",
            "   macro avg       0.93      0.93      0.93    170616\n",
            "weighted avg       0.93      0.93      0.93    170616\n",
            "\n",
            "confusion matrix:\n",
            "[[83045  2263]\n",
            " [ 9966 75342]]\n"
          ]
        }
      ],
      "source": [
        "#call fuction\n",
        "ada=create_model(ada)"
      ]
    },
    {
      "cell_type": "code",
      "execution_count": null,
      "metadata": {
        "id": "_M8GiBSzkIFa"
      },
      "outputs": [],
      "source": [
        "#Gradient Boosting:-\n",
        "#2.Gradient Boosting:-Its basically focus on short comings error menas fully grown tree\n",
        "#error means residual=actual output-predicted output\n",
        "\n",
        "#2.gradient boost technique:-second technique of Boosting Ensembling technique\n",
        "#GB:-its create a fully grown tree this algorithum is focus on short comings error."
      ]
    },
    {
      "cell_type": "code",
      "execution_count": null,
      "metadata": {
        "id": "rsIKHkD8ptRW"
      },
      "outputs": [],
      "source": [
        "#call Gradient Boosting class\n",
        "from sklearn.ensemble import GradientBoostingClassifier"
      ]
    },
    {
      "cell_type": "code",
      "execution_count": null,
      "metadata": {
        "id": "5NcEqGz1p8xG"
      },
      "outputs": [],
      "source": [
        "#create object of GradientBoostingClassifier\n",
        "gb=GradientBoostingClassifier(n_estimators=25,random_state=1)\n",
        "#n_estimators can be <=100 bydefault algorithum decisiontreeclassifier"
      ]
    },
    {
      "cell_type": "code",
      "execution_count": null,
      "metadata": {
        "colab": {
          "base_uri": "https://localhost:8080/"
        },
        "id": "MgFimqcJq0Ae",
        "outputId": "71e20508-c3c6-430d-ff63-2e1347222f83"
      },
      "outputs": [
        {
          "name": "stdout",
          "output_type": "stream",
          "text": [
            "              precision    recall  f1-score   support\n",
            "\n",
            "           0       0.88      0.99      0.93     85308\n",
            "           1       0.99      0.87      0.92     85308\n",
            "\n",
            "    accuracy                           0.93    170616\n",
            "   macro avg       0.94      0.93      0.93    170616\n",
            "weighted avg       0.94      0.93      0.93    170616\n",
            "\n",
            "confusion matrix:\n",
            "[[84421   887]\n",
            " [11190 74118]]\n"
          ]
        }
      ],
      "source": [
        "#call the function\n",
        "gb=create_model(gb)"
      ]
    },
    {
      "cell_type": "markdown",
      "metadata": {
        "id": "YEYgWVdlwVEG"
      },
      "source": [
        "Xtreme Gradient Boosting Dataset:_"
      ]
    },
    {
      "cell_type": "code",
      "execution_count": null,
      "metadata": {
        "id": "5aNLb9baq9WY"
      },
      "outputs": [],
      "source": [
        "#xtreme Gradient Boosting:3rd technique of Boosting\n",
        "#This is better version of gradient Boosting__hort fromXB\n",
        "#why call better version of Gradient Boosting:-\n",
        "#  1.XG Boosting use:-Multithreading technique\n",
        "#  2.It takes less memory space and faster\n",
        "#  3.It is very useful to handle huge amt of data:-Its deal large amt of data\n",
        "#  4.Its handle outlier because have inbuilt capability\n",
        "#  5.Its handle null values\n",
        "#  6.Its handle automatic overfitting situation."
      ]
    },
    {
      "cell_type": "code",
      "execution_count": null,
      "metadata": {
        "colab": {
          "base_uri": "https://localhost:8080/"
        },
        "id": "6bi3ru2yx-Z2",
        "outputId": "59dbc5b1-7123-4b43-ba26-dd2deb805df9"
      },
      "outputs": [
        {
          "name": "stdout",
          "output_type": "stream",
          "text": [
            "Requirement already satisfied: xgboost in /usr/local/lib/python3.7/dist-packages (0.90)\n",
            "Requirement already satisfied: scipy in /usr/local/lib/python3.7/dist-packages (from xgboost) (1.4.1)\n",
            "Requirement already satisfied: numpy in /usr/local/lib/python3.7/dist-packages (from xgboost) (1.21.5)\n"
          ]
        }
      ],
      "source": [
        "#install the external package from python's community first for XGBoost\n",
        "!pip install xgboost"
      ]
    },
    {
      "cell_type": "code",
      "execution_count": null,
      "metadata": {
        "id": "Sw31ajVwyeRL"
      },
      "outputs": [],
      "source": [
        "#import the class of xtremegradientboosting\n",
        "from xgboost import XGBClassifier\n"
      ]
    },
    {
      "cell_type": "code",
      "execution_count": null,
      "metadata": {
        "id": "Y631e3381HCj"
      },
      "outputs": [],
      "source": [
        "#create object of XGBClassifier\n",
        "xgb=XGBClassifier(n_estimators=25,reg_alpha=1,random_state=1)\n",
        "\n",
        "#automatic overfitting:reg means regularization and alpha or lambda:hyperparameter\n",
        "#n_estimators can be <=100"
      ]
    },
    {
      "cell_type": "code",
      "execution_count": null,
      "metadata": {
        "colab": {
          "base_uri": "https://localhost:8080/"
        },
        "id": "HNHwoEhpFNHK",
        "outputId": "1a7be398-c287-459b-d7d0-82e0da3a429e"
      },
      "outputs": [
        {
          "name": "stdout",
          "output_type": "stream",
          "text": [
            "              precision    recall  f1-score   support\n",
            "\n",
            "           0       0.88      0.99      0.93     85308\n",
            "           1       0.99      0.86      0.92     85308\n",
            "\n",
            "    accuracy                           0.93    170616\n",
            "   macro avg       0.93      0.93      0.93    170616\n",
            "weighted avg       0.93      0.93      0.93    170616\n",
            "\n",
            "confusion matrix:\n",
            "[[84612   696]\n",
            " [11794 73514]]\n"
          ]
        }
      ],
      "source": [
        "#call the function\n",
        "xgb=create_model(xgb)"
      ]
    },
    {
      "cell_type": "code",
      "execution_count": null,
      "metadata": {
        "id": "GXIRfzCMnk_P"
      },
      "outputs": [],
      "source": [
        "#In Boosting technique the Ada Boost technique is bets for our dataset because using €ada€boost technique our core is 88."
      ]
    },
    {
      "cell_type": "markdown",
      "metadata": {
        "id": "oCWm_hZbhGTW"
      },
      "source": [
        "KNN-algorithum:-\n"
      ]
    },
    {
      "cell_type": "code",
      "execution_count": null,
      "metadata": {
        "id": "u06sSeSHmDFH"
      },
      "outputs": [],
      "source": [
        "#SVC:support vector classifier\n",
        "from sklearn.svm import LinearSVC"
      ]
    },
    {
      "cell_type": "code",
      "execution_count": null,
      "metadata": {
        "id": "D86y5B1SmOMB"
      },
      "outputs": [],
      "source": [
        "#create object of LinearSVC class\n",
        "svc=LinearSVC(random_state=1)  #by default hard margin"
      ]
    },
    {
      "cell_type": "code",
      "execution_count": null,
      "metadata": {
        "colab": {
          "base_uri": "https://localhost:8080/"
        },
        "id": "ZKgvVJ4OmcQd",
        "outputId": "e3d805ca-9d61-4b3e-c30f-9194d7110248"
      },
      "outputs": [
        {
          "name": "stdout",
          "output_type": "stream",
          "text": [
            "              precision    recall  f1-score   support\n",
            "\n",
            "           0       0.89      0.98      0.94     85308\n",
            "           1       0.98      0.88      0.93     85308\n",
            "\n",
            "    accuracy                           0.93    170616\n",
            "   macro avg       0.94      0.93      0.93    170616\n",
            "weighted avg       0.94      0.93      0.93    170616\n",
            "\n",
            "confusion matrix:\n",
            "[[83885  1423]\n",
            " [ 9983 75325]]\n"
          ]
        }
      ],
      "source": [
        "#call function\n",
        "svc=create_model(svc)"
      ]
    },
    {
      "cell_type": "code",
      "execution_count": null,
      "metadata": {
        "id": "O_otC-OQmgHz"
      },
      "outputs": [],
      "source": [
        "#Soft margin means to reduced overfitting situation means some error add on\n",
        "#training time \n",
        "#create object of LinearSVC class\n",
        "svc1=LinearSVC(random_state=1,C=0.5)    #C means adding error\n",
        "##add some error on training time set error 0.01,0.05,....... \n",
        "#value of parameter C is not more than 1\n",
        "#we does not add more error means c values are large"
      ]
    },
    {
      "cell_type": "code",
      "execution_count": null,
      "metadata": {
        "colab": {
          "base_uri": "https://localhost:8080/"
        },
        "id": "Ohs8dgn-nECp",
        "outputId": "59a8fc5c-3921-46d3-8d65-f13af64f2e27"
      },
      "outputs": [
        {
          "name": "stdout",
          "output_type": "stream",
          "text": [
            "              precision    recall  f1-score   support\n",
            "\n",
            "           0       0.89      0.98      0.94     85308\n",
            "           1       0.98      0.88      0.93     85308\n",
            "\n",
            "    accuracy                           0.93    170616\n",
            "   macro avg       0.94      0.93      0.93    170616\n",
            "weighted avg       0.94      0.93      0.93    170616\n",
            "\n",
            "confusion matrix:\n",
            "[[83916  1392]\n",
            " [ 9983 75325]]\n"
          ]
        }
      ],
      "source": [
        "#call the function\n",
        "svc1=create_model(svc1)"
      ]
    },
    {
      "cell_type": "code",
      "execution_count": null,
      "metadata": {
        "id": "IdB1NdvenJmK"
      },
      "outputs": [],
      "source": [
        "#if add external error on training time but no any changes on score\n",
        "#means given dataset in non-Linear\n",
        "#can be possible , dataset is not linear means dataset is non-linear  .\n",
        "#use Non-linear kernal function of SVM means 2 classes are not \n",
        "#separatable with straight line"
      ]
    },
    {
      "cell_type": "code",
      "execution_count": null,
      "metadata": {
        "id": "rJIsuhssnpJY"
      },
      "outputs": [],
      "source": [
        "#There are 3 types of Kernal function of SVM\n",
        "#1. Linear SVC  : use for linear data\n",
        "#2. Non-Linear SVC : use for non-linear data\n",
        "  #1. polynomial kernal function : increase the low dimension to high dimension\n",
        "  #2. radial basis kernal function:-draw the circular hyperparameter\n",
        "\n",
        "#here 2. polynomial kernal function : increase the low dimension to \n",
        "#high dimension\n",
        "#3. radial basis kernal function  both are non-linear data"
      ]
    },
    {
      "cell_type": "code",
      "execution_count": null,
      "metadata": {
        "id": "pfrtYAtnnsQK"
      },
      "outputs": [],
      "source": [
        "#2.polynomial kernel function (non-linear)\n",
        "from sklearn.svm import SVC\n",
        "#svc inbuilt class for non-linear data"
      ]
    },
    {
      "cell_type": "code",
      "execution_count": null,
      "metadata": {
        "id": "EFOyIIA9n6nx"
      },
      "outputs": [],
      "source": [
        "#create object of SVC class for polynomial\n",
        "poly_svc=SVC(random_state=1,kernel='poly')"
      ]
    },
    {
      "cell_type": "code",
      "execution_count": null,
      "metadata": {
        "colab": {
          "base_uri": "https://localhost:8080/"
        },
        "id": "J0fS8ZdgoOtD",
        "outputId": "2ba946a7-6f43-422a-97a3-cb4c456bccd8"
      },
      "outputs": [
        {
          "name": "stdout",
          "output_type": "stream",
          "text": [
            "              precision    recall  f1-score   support\n",
            "\n",
            "           0       0.86      1.00      0.92     85308\n",
            "           1       1.00      0.84      0.91     85308\n",
            "\n",
            "    accuracy                           0.92    170616\n",
            "   macro avg       0.93      0.92      0.92    170616\n",
            "weighted avg       0.93      0.92      0.92    170616\n",
            "\n",
            "confusion matrix:\n",
            "[[85083   225]\n",
            " [13701 71607]]\n"
          ]
        }
      ],
      "source": [
        "#call the function\n",
        "poly_svc=create_model(poly_svc)"
      ]
    },
    {
      "cell_type": "code",
      "execution_count": null,
      "metadata": {
        "id": "UuL0eC798Mfc"
      },
      "outputs": [],
      "source": [
        "#apply radial basis kernel function\n",
        "radial_svc=SVC(random_state=1,kernel=\"rbf\")"
      ]
    },
    {
      "cell_type": "code",
      "execution_count": null,
      "metadata": {
        "colab": {
          "background_save": true
        },
        "id": "0j0xxXwI80bj",
        "outputId": "3aedef78-25d7-4bd8-bd48-f06f6dfac63f"
      },
      "outputs": [
        {
          "name": "stdout",
          "output_type": "stream",
          "text": [
            "              precision    recall  f1-score   support\n",
            "\n",
            "           0       0.84      0.99      0.91     85308\n",
            "           1       0.99      0.82      0.89     85308\n",
            "\n",
            "    accuracy                           0.90    170616\n",
            "   macro avg       0.92      0.90      0.90    170616\n",
            "weighted avg       0.92      0.90      0.90    170616\n",
            "\n",
            "confusion matrix:\n",
            "[[84533   775]\n",
            " [15621 69687]]\n"
          ]
        }
      ],
      "source": [
        "#call the function\n",
        "radial_svc=create_model(radial_svc)"
      ]
    },
    {
      "cell_type": "markdown",
      "source": [
        "In our credit card dataset to predict accuracy the boosting method and Linear Support Vector Machine algorithum is best for dataset."
      ],
      "metadata": {
        "id": "cL1ZvzQ1u0cB"
      }
    },
    {
      "cell_type": "code",
      "source": [
        ""
      ],
      "metadata": {
        "id": "L_IeHScpvXym"
      },
      "execution_count": null,
      "outputs": []
    }
  ],
  "metadata": {
    "colab": {
      "collapsed_sections": [],
      "name": "all_algorithms_of classification_on_creditcard_dataset",
      "provenance": []
    },
    "kernelspec": {
      "display_name": "Python 3",
      "name": "python3"
    },
    "language_info": {
      "name": "python"
    }
  },
  "nbformat": 4,
  "nbformat_minor": 0
}